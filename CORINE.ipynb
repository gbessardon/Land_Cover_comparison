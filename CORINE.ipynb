{
  "nbformat": 4,
  "nbformat_minor": 0,
  "metadata": {
    "colab": {
      "name": "CORINE.ipynb",
      "provenance": [],
      "authorship_tag": "ABX9TyM+OYQMxvW6pD1G/wY7WgXW",
      "include_colab_link": true
    },
    "kernelspec": {
      "name": "python3",
      "display_name": "Python 3"
    },
    "language_info": {
      "name": "python"
    }
  },
  "cells": [
    {
      "cell_type": "markdown",
      "metadata": {
        "id": "view-in-github",
        "colab_type": "text"
      },
      "source": [
        "<a href=\"https://colab.research.google.com/github/gbessardon/Land_Cover_comparison/blob/main/CORINE.ipynb\" target=\"_parent\"><img src=\"https://colab.research.google.com/assets/colab-badge.svg\" alt=\"Open In Colab\"/></a>"
      ]
    },
    {
      "cell_type": "markdown",
      "metadata": {
        "id": "b4wQbDlSN6Bi"
      },
      "source": [
        "## Running environment options"
      ]
    },
    {
      "cell_type": "code",
      "metadata": {
        "id": "XJWc6DY9MG-i"
      },
      "source": [
        "colab=1 # 1 running on google collab\n",
        "drive=1 # 1 need to mount google drive"
      ],
      "execution_count": 30,
      "outputs": []
    },
    {
      "cell_type": "markdown",
      "metadata": {
        "id": "TJMxXKuzN-dB"
      },
      "source": [
        "## LUCAS file location"
      ]
    },
    {
      "cell_type": "code",
      "metadata": {
        "id": "EuN9LJJrOIHu"
      },
      "source": [
        "fnshp='/content/drive/MyDrive/LUCAS2018/LUCAS_2018_Copernicus_polygons.shp'\n",
        "fncsv='/content/drive/MyDrive/LUCAS2018/LUCAS_2018_Copernicus_attributes.csv'"
      ],
      "execution_count": 31,
      "outputs": []
    },
    {
      "cell_type": "markdown",
      "metadata": {
        "id": "HDxiII657cdP"
      },
      "source": [
        "## Corine file location"
      ]
    },
    {
      "cell_type": "code",
      "metadata": {
        "id": "xNvPDACS7gso"
      },
      "source": [
        "fncorine='/content/drive/MyDrive/CORINE/u2018_clc2018_v2020_20u1_raster100m/DATA/U2018_CLC2018_V2020_20u1.tif'\n",
        "Corinefolder=fncorine.replace('/u2018_clc2018_v2020_20u1_raster100m/DATA/U2018_CLC2018_V2020_20u1.tif','')"
      ],
      "execution_count": 32,
      "outputs": []
    },
    {
      "cell_type": "markdown",
      "metadata": {
        "id": "uqk_WAGMLyBX"
      },
      "source": [
        "# Run on collab and drive \n",
        "set colab=1 and drive=1  in running enviroment options"
      ]
    },
    {
      "cell_type": "markdown",
      "metadata": {
        "id": "-putHlFQLYnQ"
      },
      "source": [
        "## MOUNT google drive"
      ]
    },
    {
      "cell_type": "code",
      "metadata": {
        "colab": {
          "base_uri": "https://localhost:8080/"
        },
        "id": "hl4a3F-GvElB",
        "outputId": "2ee4eaaf-e185-4e21-fcef-0f84c4ac586a"
      },
      "source": [
        "if drive==1:\n",
        "  from google.colab import drive\n",
        "  drive.mount('/content/drive')"
      ],
      "execution_count": 33,
      "outputs": [
        {
          "output_type": "stream",
          "name": "stdout",
          "text": [
            "Drive already mounted at /content/drive; to attempt to forcibly remount, call drive.mount(\"/content/drive\", force_remount=True).\n"
          ]
        }
      ]
    },
    {
      "cell_type": "markdown",
      "metadata": {
        "id": "Zr5-_g9PLkS_"
      },
      "source": [
        "## install geopandas and pyrpoj for collab"
      ]
    },
    {
      "cell_type": "code",
      "metadata": {
        "colab": {
          "base_uri": "https://localhost:8080/"
        },
        "id": "iLVMeu3nLp22",
        "outputId": "507511b5-0db0-4480-9a66-b45aaea31e1d"
      },
      "source": [
        "if colab==1:\n",
        "  !pip install geopandas\n",
        "  !pip install pyproj\n",
        "  !pip install rioxarray"
      ],
      "execution_count": 34,
      "outputs": [
        {
          "output_type": "stream",
          "name": "stdout",
          "text": [
            "Requirement already satisfied: geopandas in /usr/local/lib/python3.7/dist-packages (0.10.2)\n",
            "Requirement already satisfied: fiona>=1.8 in /usr/local/lib/python3.7/dist-packages (from geopandas) (1.8.20)\n",
            "Requirement already satisfied: shapely>=1.6 in /usr/local/lib/python3.7/dist-packages (from geopandas) (1.8.0)\n",
            "Requirement already satisfied: pandas>=0.25.0 in /usr/local/lib/python3.7/dist-packages (from geopandas) (1.1.5)\n",
            "Requirement already satisfied: pyproj>=2.2.0 in /usr/local/lib/python3.7/dist-packages (from geopandas) (3.2.1)\n",
            "Requirement already satisfied: click-plugins>=1.0 in /usr/local/lib/python3.7/dist-packages (from fiona>=1.8->geopandas) (1.1.1)\n",
            "Requirement already satisfied: cligj>=0.5 in /usr/local/lib/python3.7/dist-packages (from fiona>=1.8->geopandas) (0.7.2)\n",
            "Requirement already satisfied: munch in /usr/local/lib/python3.7/dist-packages (from fiona>=1.8->geopandas) (2.5.0)\n",
            "Requirement already satisfied: setuptools in /usr/local/lib/python3.7/dist-packages (from fiona>=1.8->geopandas) (57.4.0)\n",
            "Requirement already satisfied: certifi in /usr/local/lib/python3.7/dist-packages (from fiona>=1.8->geopandas) (2021.10.8)\n",
            "Requirement already satisfied: six>=1.7 in /usr/local/lib/python3.7/dist-packages (from fiona>=1.8->geopandas) (1.15.0)\n",
            "Requirement already satisfied: attrs>=17 in /usr/local/lib/python3.7/dist-packages (from fiona>=1.8->geopandas) (21.2.0)\n",
            "Requirement already satisfied: click>=4.0 in /usr/local/lib/python3.7/dist-packages (from fiona>=1.8->geopandas) (7.1.2)\n",
            "Requirement already satisfied: numpy>=1.15.4 in /usr/local/lib/python3.7/dist-packages (from pandas>=0.25.0->geopandas) (1.19.5)\n",
            "Requirement already satisfied: python-dateutil>=2.7.3 in /usr/local/lib/python3.7/dist-packages (from pandas>=0.25.0->geopandas) (2.8.2)\n",
            "Requirement already satisfied: pytz>=2017.2 in /usr/local/lib/python3.7/dist-packages (from pandas>=0.25.0->geopandas) (2018.9)\n",
            "Requirement already satisfied: pyproj in /usr/local/lib/python3.7/dist-packages (3.2.1)\n",
            "Requirement already satisfied: certifi in /usr/local/lib/python3.7/dist-packages (from pyproj) (2021.10.8)\n",
            "Requirement already satisfied: rioxarray in /usr/local/lib/python3.7/dist-packages (0.9.0)\n",
            "Requirement already satisfied: packaging in /usr/local/lib/python3.7/dist-packages (from rioxarray) (21.3)\n",
            "Requirement already satisfied: pyproj>=2.2 in /usr/local/lib/python3.7/dist-packages (from rioxarray) (3.2.1)\n",
            "Requirement already satisfied: xarray>=0.17 in /usr/local/lib/python3.7/dist-packages (from rioxarray) (0.18.2)\n",
            "Requirement already satisfied: rasterio in /usr/local/lib/python3.7/dist-packages (from rioxarray) (1.2.10)\n",
            "Requirement already satisfied: certifi in /usr/local/lib/python3.7/dist-packages (from pyproj>=2.2->rioxarray) (2021.10.8)\n",
            "Requirement already satisfied: pandas>=1.0 in /usr/local/lib/python3.7/dist-packages (from xarray>=0.17->rioxarray) (1.1.5)\n",
            "Requirement already satisfied: setuptools>=40.4 in /usr/local/lib/python3.7/dist-packages (from xarray>=0.17->rioxarray) (57.4.0)\n",
            "Requirement already satisfied: numpy>=1.17 in /usr/local/lib/python3.7/dist-packages (from xarray>=0.17->rioxarray) (1.19.5)\n",
            "Requirement already satisfied: pytz>=2017.2 in /usr/local/lib/python3.7/dist-packages (from pandas>=1.0->xarray>=0.17->rioxarray) (2018.9)\n",
            "Requirement already satisfied: python-dateutil>=2.7.3 in /usr/local/lib/python3.7/dist-packages (from pandas>=1.0->xarray>=0.17->rioxarray) (2.8.2)\n",
            "Requirement already satisfied: six>=1.5 in /usr/local/lib/python3.7/dist-packages (from python-dateutil>=2.7.3->pandas>=1.0->xarray>=0.17->rioxarray) (1.15.0)\n",
            "Requirement already satisfied: pyparsing!=3.0.5,>=2.0.2 in /usr/local/lib/python3.7/dist-packages (from packaging->rioxarray) (3.0.6)\n",
            "Requirement already satisfied: cligj>=0.5 in /usr/local/lib/python3.7/dist-packages (from rasterio->rioxarray) (0.7.2)\n",
            "Requirement already satisfied: click-plugins in /usr/local/lib/python3.7/dist-packages (from rasterio->rioxarray) (1.1.1)\n",
            "Requirement already satisfied: snuggs>=1.4.1 in /usr/local/lib/python3.7/dist-packages (from rasterio->rioxarray) (1.4.7)\n",
            "Requirement already satisfied: affine in /usr/local/lib/python3.7/dist-packages (from rasterio->rioxarray) (2.3.0)\n",
            "Requirement already satisfied: attrs in /usr/local/lib/python3.7/dist-packages (from rasterio->rioxarray) (21.2.0)\n",
            "Requirement already satisfied: click>=4.0 in /usr/local/lib/python3.7/dist-packages (from rasterio->rioxarray) (7.1.2)\n"
          ]
        }
      ]
    },
    {
      "cell_type": "markdown",
      "metadata": {
        "id": "xrnNAa8lxvFS"
      },
      "source": [
        "# import libraires"
      ]
    },
    {
      "cell_type": "code",
      "metadata": {
        "id": "XPASJ5A8xufi"
      },
      "source": [
        "import os\n",
        "from osgeo import gdal\n",
        "from shapely import geometry\n",
        "import geopandas as gpd\n",
        "import numpy as np\n",
        "import shutil"
      ],
      "execution_count": 35,
      "outputs": []
    },
    {
      "cell_type": "markdown",
      "metadata": {
        "id": "TytO9B2abxCC"
      },
      "source": [
        "# Create functions"
      ]
    },
    {
      "cell_type": "markdown",
      "metadata": {
        "id": "Q4d1t8XbWS_0"
      },
      "source": [
        "## create directory to store the segment before zipping"
      ]
    },
    {
      "cell_type": "code",
      "metadata": {
        "id": "Z6Hekp0KmD9a"
      },
      "source": [
        "def create_sgement_dir(path=os.getcwd(),ending='LUCAS_Segment'):\n",
        "    outputdir=os.path.join(path,ending)\n",
        "    if not os.path.isdir(outputdir):\n",
        "      os.mkdir(outputdir)\n",
        "    return outputdir"
      ],
      "execution_count": 36,
      "outputs": []
    },
    {
      "cell_type": "markdown",
      "metadata": {
        "id": "LvRfVCm0oLvw"
      },
      "source": [
        "## CUT Corine segments"
      ]
    },
    {
      "cell_type": "code",
      "metadata": {
        "id": "4hoxl4aZnK9n"
      },
      "source": [
        "def cutCORINE(fncorine,bounds,outfn,res=10):\n",
        "  #Crop to a sligthly larger area\n",
        "  lonmin=bounds[0]-0.1\n",
        "  latmin=bounds[1]-0.1\n",
        "  lonmax=bounds[2]+0.1\n",
        "  latmax=bounds[3]+0.1\n",
        "   # Sentinel files resolution\n",
        "  src_fn=fncorine\n",
        "  temp_fn='CORINEcut10m.tif' # 10m cutted filename\n",
        "  ds=gdal.Open(src_fn)\n",
        "  gdal.Translate(temp_fn,ds,projWin = [lonmin, latmax, lonmax, latmin],\n",
        "                 projWinSRS='EPSG:4326',xRes=10,yRes=10) \n",
        "  # Recrop to the actual area and increase the resolution  \n",
        "  opt=gdal.WarpOptions(dstSRS=\"EPSG:4326\",outputBounds=bounds)\n",
        "  gdal.Warp(outfn,temp_fn,options=opt)\n",
        "  return"
      ],
      "execution_count": 47,
      "outputs": []
    },
    {
      "cell_type": "markdown",
      "metadata": {
        "id": "4k4q0_suvw-m"
      },
      "source": [
        "# Main"
      ]
    },
    {
      "cell_type": "markdown",
      "metadata": {
        "id": "oL0YDeY3WtB1"
      },
      "source": [
        "## Open LUCAS shapefile in a geodatabase"
      ]
    },
    {
      "cell_type": "code",
      "metadata": {
        "id": "2jD4tyUJewNV"
      },
      "source": [
        "LUCASgdf = gpd.read_file(fnshp)"
      ],
      "execution_count": 38,
      "outputs": []
    },
    {
      "cell_type": "markdown",
      "metadata": {
        "id": "2WdhfZO1W08E"
      },
      "source": [
        "## Create directory to store the segment before zipping"
      ]
    },
    {
      "cell_type": "code",
      "metadata": {
        "id": "JJRlHStS3vHS"
      },
      "source": [
        "outputdir=create_sgement_dir(path=os.getcwd(),ending='LUCAS_Segment')"
      ],
      "execution_count": 39,
      "outputs": []
    },
    {
      "cell_type": "markdown",
      "metadata": {
        "id": "MIBGPGoyv8Xz"
      },
      "source": [
        "## Create CORINE segments corresponding to the LUCAS segments"
      ]
    },
    {
      "cell_type": "code",
      "metadata": {
        "id": "alHSfUYjwGLW"
      },
      "source": [
        "for i,d in LUCASgdf.iterrows():\n",
        "      lucasp=LUCASgdf['geometry'].loc[i]\n",
        "      bounds=lucasp.bounds\n",
        "      lucasid=LUCASgdf['POINT_ID'].loc[i]\n",
        "      outfile=os.path.join(outputdir,str(lucasid)+'.tif')\n",
        "      cutCORINE(fncorine,bounds,outfile,res=10)"
      ],
      "execution_count": null,
      "outputs": []
    },
    {
      "cell_type": "markdown",
      "metadata": {
        "id": "BQCZCgG0gYAH"
      },
      "source": [
        "## Save in a zip archive in google drive (prevents I/O errors)"
      ]
    },
    {
      "cell_type": "code",
      "metadata": {
        "id": "fwGZZDXjUtDs"
      },
      "source": [
        "shutil.make_archive(os.path.join(Corinefolder,'LUCAS_Segment'), 'zip', outputdir)"
      ],
      "execution_count": null,
      "outputs": []
    }
  ]
}