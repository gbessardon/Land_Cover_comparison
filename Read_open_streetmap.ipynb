{
  "nbformat": 4,
  "nbformat_minor": 0,
  "metadata": {
    "colab": {
      "name": "Read_open_streetmap.ipynb",
      "provenance": [],
      "authorship_tag": "ABX9TyMvoA9jbXAc0ubMGPKuN0P/",
      "include_colab_link": true
    },
    "kernelspec": {
      "name": "python3",
      "display_name": "Python 3"
    },
    "language_info": {
      "name": "python"
    }
  },
  "cells": [
    {
      "cell_type": "markdown",
      "metadata": {
        "id": "view-in-github",
        "colab_type": "text"
      },
      "source": [
        "<a href=\"https://colab.research.google.com/github/gbessardon/Land_Cover_comparison/blob/main/Read_open_streetmap.ipynb\" target=\"_parent\"><img src=\"https://colab.research.google.com/assets/colab-badge.svg\" alt=\"Open In Colab\"/></a>"
      ]
    },
    {
      "cell_type": "markdown",
      "metadata": {
        "id": "bqKmExFRcvRK"
      },
      "source": [
        "# Declare variable and file location\n"
      ]
    },
    {
      "cell_type": "markdown",
      "metadata": {
        "id": "3W-bmthYczpp"
      },
      "source": [
        "## Running environment options"
      ]
    },
    {
      "cell_type": "code",
      "metadata": {
        "id": "RWfOXUHUcpei"
      },
      "source": [
        "colab=1 # 1 running on google collab\n",
        "drive=1 # 1 need to mount google drive"
      ],
      "execution_count": 1,
      "outputs": []
    },
    {
      "cell_type": "markdown",
      "metadata": {
        "id": "RyEkPRyXdAm5"
      },
      "source": [
        "## LUCAS file location"
      ]
    },
    {
      "cell_type": "code",
      "metadata": {
        "id": "snOJnaKadE_Z"
      },
      "source": [
        "fnshp='/content/drive/MyDrive/LUCAS2018/LUCAS_2018_Copernicus_polygons.shp'"
      ],
      "execution_count": 2,
      "outputs": []
    },
    {
      "cell_type": "markdown",
      "metadata": {
        "id": "Wx6J7VV6dJdB"
      },
      "source": [
        "# Run on collab and drive"
      ]
    },
    {
      "cell_type": "markdown",
      "metadata": {
        "id": "_Skry4jrdPYr"
      },
      "source": [
        "## MOUNT google drive"
      ]
    },
    {
      "cell_type": "code",
      "metadata": {
        "colab": {
          "base_uri": "https://localhost:8080/"
        },
        "id": "9OCs5_iJdN1B",
        "outputId": "1341d75d-1049-4404-ea86-7741a0766516"
      },
      "source": [
        "if drive==1:\n",
        "  from google.colab import drive\n",
        "  drive.mount('/content/drive')"
      ],
      "execution_count": 3,
      "outputs": [
        {
          "output_type": "stream",
          "name": "stdout",
          "text": [
            "Mounted at /content/drive\n"
          ]
        }
      ]
    },
    {
      "cell_type": "markdown",
      "metadata": {
        "id": "IXmpPL9ldT7Y"
      },
      "source": [
        "## install libraries for collab"
      ]
    },
    {
      "cell_type": "code",
      "metadata": {
        "colab": {
          "base_uri": "https://localhost:8080/",
          "height": 1000
        },
        "id": "KTyt4IC6dSb5",
        "outputId": "dd49495e-dc8e-4d34-9c63-d16c4483d62e"
      },
      "source": [
        "if colab==1:\n",
        "  !pip install geopandas\n",
        "  !pip install pyproj\n",
        "  # OSMPythonTools Open street map python api\n",
        "  !pip install OSMPythonTools\n",
        "  #GeoPy, which will help us turn addresses into geographic coordinates\n",
        "  !pip install geopy\n",
        "  # \n",
        "  !pip install osmnx"
      ],
      "execution_count": 4,
      "outputs": [
        {
          "output_type": "stream",
          "name": "stdout",
          "text": [
            "Collecting geopandas\n",
            "  Downloading geopandas-0.10.2-py2.py3-none-any.whl (1.0 MB)\n",
            "\u001b[K     |████████████████████████████████| 1.0 MB 4.9 MB/s \n",
            "\u001b[?25hCollecting pyproj>=2.2.0\n",
            "  Downloading pyproj-3.2.1-cp37-cp37m-manylinux2010_x86_64.whl (6.3 MB)\n",
            "\u001b[K     |████████████████████████████████| 6.3 MB 46.6 MB/s \n",
            "\u001b[?25hRequirement already satisfied: shapely>=1.6 in /usr/local/lib/python3.7/dist-packages (from geopandas) (1.8.0)\n",
            "Requirement already satisfied: pandas>=0.25.0 in /usr/local/lib/python3.7/dist-packages (from geopandas) (1.1.5)\n",
            "Collecting fiona>=1.8\n",
            "  Downloading Fiona-1.8.20-cp37-cp37m-manylinux1_x86_64.whl (15.4 MB)\n",
            "\u001b[K     |████████████████████████████████| 15.4 MB 46.0 MB/s \n",
            "\u001b[?25hCollecting munch\n",
            "  Downloading munch-2.5.0-py2.py3-none-any.whl (10 kB)\n",
            "Requirement already satisfied: certifi in /usr/local/lib/python3.7/dist-packages (from fiona>=1.8->geopandas) (2021.10.8)\n",
            "Requirement already satisfied: attrs>=17 in /usr/local/lib/python3.7/dist-packages (from fiona>=1.8->geopandas) (21.2.0)\n",
            "Requirement already satisfied: six>=1.7 in /usr/local/lib/python3.7/dist-packages (from fiona>=1.8->geopandas) (1.15.0)\n",
            "Collecting cligj>=0.5\n",
            "  Downloading cligj-0.7.2-py3-none-any.whl (7.1 kB)\n",
            "Requirement already satisfied: click>=4.0 in /usr/local/lib/python3.7/dist-packages (from fiona>=1.8->geopandas) (7.1.2)\n",
            "Collecting click-plugins>=1.0\n",
            "  Downloading click_plugins-1.1.1-py2.py3-none-any.whl (7.5 kB)\n",
            "Requirement already satisfied: setuptools in /usr/local/lib/python3.7/dist-packages (from fiona>=1.8->geopandas) (57.4.0)\n",
            "Requirement already satisfied: numpy>=1.15.4 in /usr/local/lib/python3.7/dist-packages (from pandas>=0.25.0->geopandas) (1.19.5)\n",
            "Requirement already satisfied: python-dateutil>=2.7.3 in /usr/local/lib/python3.7/dist-packages (from pandas>=0.25.0->geopandas) (2.8.2)\n",
            "Requirement already satisfied: pytz>=2017.2 in /usr/local/lib/python3.7/dist-packages (from pandas>=0.25.0->geopandas) (2018.9)\n",
            "Installing collected packages: munch, cligj, click-plugins, pyproj, fiona, geopandas\n",
            "Successfully installed click-plugins-1.1.1 cligj-0.7.2 fiona-1.8.20 geopandas-0.10.2 munch-2.5.0 pyproj-3.2.1\n",
            "Requirement already satisfied: pyproj in /usr/local/lib/python3.7/dist-packages (3.2.1)\n",
            "Requirement already satisfied: certifi in /usr/local/lib/python3.7/dist-packages (from pyproj) (2021.10.8)\n",
            "Collecting OSMPythonTools\n",
            "  Downloading OSMPythonTools-0.3.2.tar.gz (13 kB)\n",
            "Requirement already satisfied: beautifulsoup4 in /usr/local/lib/python3.7/dist-packages (from OSMPythonTools) (4.6.3)\n",
            "Collecting geojson\n",
            "  Downloading geojson-2.5.0-py2.py3-none-any.whl (14 kB)\n",
            "Requirement already satisfied: lxml in /usr/local/lib/python3.7/dist-packages (from OSMPythonTools) (4.2.6)\n",
            "Requirement already satisfied: matplotlib in /usr/local/lib/python3.7/dist-packages (from OSMPythonTools) (3.2.2)\n",
            "Requirement already satisfied: numpy in /usr/local/lib/python3.7/dist-packages (from OSMPythonTools) (1.19.5)\n",
            "Requirement already satisfied: pandas in /usr/local/lib/python3.7/dist-packages (from OSMPythonTools) (1.1.5)\n",
            "Requirement already satisfied: pytest in /usr/local/lib/python3.7/dist-packages (from OSMPythonTools) (3.6.4)\n",
            "Collecting pytest-sugar\n",
            "  Downloading pytest-sugar-0.9.4.tar.gz (12 kB)\n",
            "Collecting ujson\n",
            "  Downloading ujson-4.3.0-cp37-cp37m-manylinux_2_17_x86_64.manylinux2014_x86_64.whl (216 kB)\n",
            "\u001b[K     |████████████████████████████████| 216 kB 6.4 MB/s \n",
            "\u001b[?25hRequirement already satisfied: xarray in /usr/local/lib/python3.7/dist-packages (from OSMPythonTools) (0.18.2)\n",
            "Requirement already satisfied: kiwisolver>=1.0.1 in /usr/local/lib/python3.7/dist-packages (from matplotlib->OSMPythonTools) (1.3.2)\n",
            "Requirement already satisfied: cycler>=0.10 in /usr/local/lib/python3.7/dist-packages (from matplotlib->OSMPythonTools) (0.11.0)\n",
            "Requirement already satisfied: python-dateutil>=2.1 in /usr/local/lib/python3.7/dist-packages (from matplotlib->OSMPythonTools) (2.8.2)\n",
            "Requirement already satisfied: pyparsing!=2.0.4,!=2.1.2,!=2.1.6,>=2.0.1 in /usr/local/lib/python3.7/dist-packages (from matplotlib->OSMPythonTools) (3.0.6)\n",
            "Requirement already satisfied: six>=1.5 in /usr/local/lib/python3.7/dist-packages (from python-dateutil>=2.1->matplotlib->OSMPythonTools) (1.15.0)\n",
            "Requirement already satisfied: pytz>=2017.2 in /usr/local/lib/python3.7/dist-packages (from pandas->OSMPythonTools) (2018.9)\n",
            "Requirement already satisfied: pluggy<0.8,>=0.5 in /usr/local/lib/python3.7/dist-packages (from pytest->OSMPythonTools) (0.7.1)\n",
            "Requirement already satisfied: attrs>=17.4.0 in /usr/local/lib/python3.7/dist-packages (from pytest->OSMPythonTools) (21.2.0)\n",
            "Requirement already satisfied: more-itertools>=4.0.0 in /usr/local/lib/python3.7/dist-packages (from pytest->OSMPythonTools) (8.11.0)\n",
            "Requirement already satisfied: setuptools in /usr/local/lib/python3.7/dist-packages (from pytest->OSMPythonTools) (57.4.0)\n",
            "Requirement already satisfied: py>=1.5.0 in /usr/local/lib/python3.7/dist-packages (from pytest->OSMPythonTools) (1.11.0)\n",
            "Requirement already satisfied: atomicwrites>=1.0 in /usr/local/lib/python3.7/dist-packages (from pytest->OSMPythonTools) (1.4.0)\n",
            "Requirement already satisfied: termcolor>=1.1.0 in /usr/local/lib/python3.7/dist-packages (from pytest-sugar->OSMPythonTools) (1.1.0)\n",
            "Requirement already satisfied: packaging>=14.1 in /usr/local/lib/python3.7/dist-packages (from pytest-sugar->OSMPythonTools) (21.3)\n",
            "Building wheels for collected packages: OSMPythonTools, pytest-sugar\n",
            "  Building wheel for OSMPythonTools (setup.py) ... \u001b[?25l\u001b[?25hdone\n",
            "  Created wheel for OSMPythonTools: filename=OSMPythonTools-0.3.2-py3-none-any.whl size=13822 sha256=47ffc7979ddbd340c654ab53c6ee9f0bd527280614085713c91b471a87d0ec85\n",
            "  Stored in directory: /root/.cache/pip/wheels/a3/c7/c5/907dd97731c0b1775024cc29638028527425d3db24c7a8c727\n",
            "  Building wheel for pytest-sugar (setup.py) ... \u001b[?25l\u001b[?25hdone\n",
            "  Created wheel for pytest-sugar: filename=pytest_sugar-0.9.4-py2.py3-none-any.whl size=8986 sha256=03e21c51dbaaaa0d5138ca1fc8f734deeaeaff36c6f7c68dd5fe1ab7a10f1b3d\n",
            "  Stored in directory: /root/.cache/pip/wheels/9c/e8/b6/5009ec756a2f40eed690a8b0a95549cd788c1ec968832876df\n",
            "Successfully built OSMPythonTools pytest-sugar\n",
            "Installing collected packages: ujson, pytest-sugar, geojson, OSMPythonTools\n",
            "Successfully installed OSMPythonTools-0.3.2 geojson-2.5.0 pytest-sugar-0.9.4 ujson-4.3.0\n",
            "Requirement already satisfied: geopy in /usr/local/lib/python3.7/dist-packages (1.17.0)\n",
            "Requirement already satisfied: geographiclib<2,>=1.49 in /usr/local/lib/python3.7/dist-packages (from geopy) (1.52)\n",
            "Collecting osmnx\n",
            "  Downloading osmnx-1.1.2-py2.py3-none-any.whl (95 kB)\n",
            "\u001b[K     |████████████████████████████████| 95 kB 3.1 MB/s \n",
            "\u001b[?25hRequirement already satisfied: pyproj>=3.2 in /usr/local/lib/python3.7/dist-packages (from osmnx) (3.2.1)\n",
            "Collecting Rtree>=0.9\n",
            "  Downloading Rtree-0.9.7-cp37-cp37m-manylinux2010_x86_64.whl (994 kB)\n",
            "\u001b[K     |████████████████████████████████| 994 kB 38.6 MB/s \n",
            "\u001b[?25hCollecting requests>=2.26\n",
            "  Downloading requests-2.26.0-py2.py3-none-any.whl (62 kB)\n",
            "\u001b[K     |████████████████████████████████| 62 kB 936 kB/s \n",
            "\u001b[?25hCollecting numpy>=1.21\n",
            "  Downloading numpy-1.21.4-cp37-cp37m-manylinux_2_12_x86_64.manylinux2010_x86_64.whl (15.7 MB)\n",
            "\u001b[K     |████████████████████████████████| 15.7 MB 44.8 MB/s \n",
            "\u001b[?25hCollecting pandas>=1.3\n",
            "  Downloading pandas-1.3.4-cp37-cp37m-manylinux_2_17_x86_64.manylinux2014_x86_64.whl (11.3 MB)\n",
            "\u001b[K     |████████████████████████████████| 11.3 MB 45.0 MB/s \n",
            "\u001b[?25hCollecting matplotlib>=3.4\n",
            "  Downloading matplotlib-3.5.0-cp37-cp37m-manylinux_2_5_x86_64.manylinux1_x86_64.whl (11.2 MB)\n",
            "\u001b[K     |████████████████████████████████| 11.2 MB 45.1 MB/s \n",
            "\u001b[?25hRequirement already satisfied: Shapely<2.0,>=1.7 in /usr/local/lib/python3.7/dist-packages (from osmnx) (1.8.0)\n",
            "Requirement already satisfied: geopandas>=0.10 in /usr/local/lib/python3.7/dist-packages (from osmnx) (0.10.2)\n",
            "Requirement already satisfied: networkx>=2.6 in /usr/local/lib/python3.7/dist-packages (from osmnx) (2.6.3)\n",
            "Requirement already satisfied: fiona>=1.8 in /usr/local/lib/python3.7/dist-packages (from geopandas>=0.10->osmnx) (1.8.20)\n",
            "Requirement already satisfied: six>=1.7 in /usr/local/lib/python3.7/dist-packages (from fiona>=1.8->geopandas>=0.10->osmnx) (1.15.0)\n",
            "Requirement already satisfied: setuptools in /usr/local/lib/python3.7/dist-packages (from fiona>=1.8->geopandas>=0.10->osmnx) (57.4.0)\n",
            "Requirement already satisfied: attrs>=17 in /usr/local/lib/python3.7/dist-packages (from fiona>=1.8->geopandas>=0.10->osmnx) (21.2.0)\n",
            "Requirement already satisfied: munch in /usr/local/lib/python3.7/dist-packages (from fiona>=1.8->geopandas>=0.10->osmnx) (2.5.0)\n",
            "Requirement already satisfied: click-plugins>=1.0 in /usr/local/lib/python3.7/dist-packages (from fiona>=1.8->geopandas>=0.10->osmnx) (1.1.1)\n",
            "Requirement already satisfied: cligj>=0.5 in /usr/local/lib/python3.7/dist-packages (from fiona>=1.8->geopandas>=0.10->osmnx) (0.7.2)\n",
            "Requirement already satisfied: click>=4.0 in /usr/local/lib/python3.7/dist-packages (from fiona>=1.8->geopandas>=0.10->osmnx) (7.1.2)\n",
            "Requirement already satisfied: certifi in /usr/local/lib/python3.7/dist-packages (from fiona>=1.8->geopandas>=0.10->osmnx) (2021.10.8)\n",
            "Requirement already satisfied: kiwisolver>=1.0.1 in /usr/local/lib/python3.7/dist-packages (from matplotlib>=3.4->osmnx) (1.3.2)\n",
            "Requirement already satisfied: fonttools>=4.22.0 in /usr/local/lib/python3.7/dist-packages (from matplotlib>=3.4->osmnx) (4.28.1)\n",
            "Requirement already satisfied: cycler>=0.10 in /usr/local/lib/python3.7/dist-packages (from matplotlib>=3.4->osmnx) (0.11.0)\n",
            "Requirement already satisfied: python-dateutil>=2.7 in /usr/local/lib/python3.7/dist-packages (from matplotlib>=3.4->osmnx) (2.8.2)\n",
            "Requirement already satisfied: packaging>=20.0 in /usr/local/lib/python3.7/dist-packages (from matplotlib>=3.4->osmnx) (21.3)\n",
            "Requirement already satisfied: pyparsing>=2.2.1 in /usr/local/lib/python3.7/dist-packages (from matplotlib>=3.4->osmnx) (3.0.6)\n",
            "Requirement already satisfied: pillow>=6.2.0 in /usr/local/lib/python3.7/dist-packages (from matplotlib>=3.4->osmnx) (7.1.2)\n",
            "Requirement already satisfied: setuptools-scm>=4 in /usr/local/lib/python3.7/dist-packages (from matplotlib>=3.4->osmnx) (6.3.2)\n",
            "Requirement already satisfied: pytz>=2017.3 in /usr/local/lib/python3.7/dist-packages (from pandas>=1.3->osmnx) (2018.9)\n",
            "Requirement already satisfied: urllib3<1.27,>=1.21.1 in /usr/local/lib/python3.7/dist-packages (from requests>=2.26->osmnx) (1.24.3)\n",
            "Requirement already satisfied: idna<4,>=2.5 in /usr/local/lib/python3.7/dist-packages (from requests>=2.26->osmnx) (2.10)\n",
            "Requirement already satisfied: charset-normalizer~=2.0.0 in /usr/local/lib/python3.7/dist-packages (from requests>=2.26->osmnx) (2.0.7)\n",
            "Requirement already satisfied: tomli>=1.0.0 in /usr/local/lib/python3.7/dist-packages (from setuptools-scm>=4->matplotlib>=3.4->osmnx) (1.2.2)\n",
            "Installing collected packages: numpy, pandas, Rtree, requests, matplotlib, osmnx\n",
            "  Attempting uninstall: numpy\n",
            "    Found existing installation: numpy 1.19.5\n",
            "    Uninstalling numpy-1.19.5:\n",
            "      Successfully uninstalled numpy-1.19.5\n",
            "  Attempting uninstall: pandas\n",
            "    Found existing installation: pandas 1.1.5\n",
            "    Uninstalling pandas-1.1.5:\n",
            "      Successfully uninstalled pandas-1.1.5\n",
            "  Attempting uninstall: requests\n",
            "    Found existing installation: requests 2.23.0\n",
            "    Uninstalling requests-2.23.0:\n",
            "      Successfully uninstalled requests-2.23.0\n",
            "  Attempting uninstall: matplotlib\n",
            "    Found existing installation: matplotlib 3.2.2\n",
            "    Uninstalling matplotlib-3.2.2:\n",
            "      Successfully uninstalled matplotlib-3.2.2\n",
            "\u001b[31mERROR: pip's dependency resolver does not currently take into account all the packages that are installed. This behaviour is the source of the following dependency conflicts.\n",
            "yellowbrick 1.3.post1 requires numpy<1.20,>=1.16.0, but you have numpy 1.21.4 which is incompatible.\n",
            "google-colab 1.0.0 requires pandas~=1.1.0; python_version >= \"3.0\", but you have pandas 1.3.4 which is incompatible.\n",
            "google-colab 1.0.0 requires requests~=2.23.0, but you have requests 2.26.0 which is incompatible.\n",
            "datascience 0.10.6 requires folium==0.2.1, but you have folium 0.8.3 which is incompatible.\n",
            "albumentations 0.1.12 requires imgaug<0.2.7,>=0.2.5, but you have imgaug 0.2.9 which is incompatible.\u001b[0m\n",
            "Successfully installed Rtree-0.9.7 matplotlib-3.5.0 numpy-1.21.4 osmnx-1.1.2 pandas-1.3.4 requests-2.26.0\n"
          ]
        },
        {
          "output_type": "display_data",
          "data": {
            "application/vnd.colab-display-data+json": {
              "pip_warning": {
                "packages": [
                  "matplotlib",
                  "mpl_toolkits",
                  "numpy",
                  "pandas"
                ]
              }
            }
          },
          "metadata": {}
        }
      ]
    },
    {
      "cell_type": "markdown",
      "metadata": {
        "id": "_LtuWn8edqzL"
      },
      "source": [
        "# Import libraries"
      ]
    },
    {
      "cell_type": "code",
      "metadata": {
        "id": "IDS-KZ-Evbpu"
      },
      "source": [
        "from osgeo import gdal\n",
        "import shapely.geometry as geom\n",
        "import geopandas as gpd\n",
        "import numpy as np"
      ],
      "execution_count": 5,
      "outputs": []
    },
    {
      "cell_type": "code",
      "metadata": {
        "id": "uOHDeogWvtNM"
      },
      "source": [
        "import pandas as pd\n",
        "from pyproj import Proj\n",
        "import osmnx as ox\n",
        "from OSMPythonTools.overpass import Overpass, overpassQueryBuilder\n",
        "from OSMPythonTools.data import Data, dictRangeYears, ALL\n",
        "from collections import OrderedDict"
      ],
      "execution_count": 6,
      "outputs": []
    },
    {
      "cell_type": "markdown",
      "metadata": {
        "id": "MBNPXQ6Oo4XA"
      },
      "source": [
        "# Open LUCAS polygon"
      ]
    },
    {
      "cell_type": "code",
      "metadata": {
        "id": "oIaGoUXuoyXh"
      },
      "source": [
        "gdf = gpd.read_file(fnshp)"
      ],
      "execution_count": 7,
      "outputs": []
    },
    {
      "cell_type": "markdown",
      "metadata": {
        "id": "nlE4SFpvC3Q0"
      },
      "source": [
        "# Open Open street map"
      ]
    },
    {
      "cell_type": "code",
      "metadata": {
        "id": "-nbcdweBfUJV"
      },
      "source": [
        "dimensions = OrderedDict([\n",
        "  ('year', dictRangeYears(2020, 2021, 1)),\n",
        "  ('geo', OrderedDict(gdf['geometry'].to_dict())),\n",
        "  ])\n",
        "overpass=Overpass()"
      ],
      "execution_count": 8,
      "outputs": []
    },
    {
      "cell_type": "code",
      "metadata": {
        "id": "ZgSQ4w7ppwjW"
      },
      "source": [
        "def fetch(year,geo):\n",
        "  shape=geo.bounds\n",
        "  query = overpassQueryBuilder(bbox=[shape[1],shape[0],shape[3],shape[2]]\n",
        "                               , elementType=['node', 'way','relation'], out='body')\n",
        "  return overpass.query(query)"
      ],
      "execution_count": 9,
      "outputs": []
    },
    {
      "cell_type": "code",
      "metadata": {
        "colab": {
          "base_uri": "https://localhost:8080/"
        },
        "id": "h63oZuP8i5cx",
        "outputId": "daa77469-64c1-4e1d-d187-a3365616d02b"
      },
      "source": [
        "Data(fetch,dimensions)"
      ],
      "execution_count": null,
      "outputs": [
        {
          "output_type": "stream",
          "name": "stderr",
          "text": [
            "[overpass] downloading data: [timeout:25][out:json];(node(37.112052451937004,-8.906696813300016,37.11294753097893,-8.905942361268883);way(37.112052451937004,-8.906696813300016,37.11294753097893,-8.905942361268883);relation(37.112052451937004,-8.906696813300016,37.11294753097893,-8.905942361268883);); out body;\n",
            "[overpass] downloading data: [timeout:25][out:json];(node(37.12093238527398,-8.863331758481662,37.12182759765232,-8.862216239972094);way(37.12093238527398,-8.863331758481662,37.12182759765232,-8.862216239972094);relation(37.12093238527398,-8.863331758481662,37.12182759765232,-8.862216239972094);); out body;\n",
            "[overpass] downloading data: [timeout:25][out:json];(node(37.07271228965894,-8.826853434638867,37.07342334559986,-8.825738563821316);way(37.07271228965894,-8.826853434638867,37.07342334559986,-8.825738563821316);relation(37.07271228965894,-8.826853434638867,37.07342334559986,-8.825738563821316);); out body;\n",
            "[overpass] downloading data: [timeout:25][out:json];(node(37.19559243502546,-8.860463634043171,37.19615318314284,-8.859828665374495);way(37.19559243502546,-8.860463634043171,37.19615318314284,-8.859828665374495);relation(37.19559243502546,-8.860463634043171,37.19615318314284,-8.859828665374495);); out body;\n",
            "[overpass] downloading data: [timeout:25][out:json];(node(38.9645142306451,-9.372178214492266,38.96482202912684,-9.37172978524059);way(38.9645142306451,-9.372178214492266,38.96482202912684,-9.37172978524059);relation(38.9645142306451,-9.372178214492266,38.96482202912684,-9.37172978524059);); out body;\n",
            "[overpass] downloading data: [timeout:25][out:json];(node(38.999244202435584,-9.382706321398967,38.99973541318224,-9.381909979220731);way(38.999244202435584,-9.382706321398967,38.99973541318224,-9.381909979220731);relation(38.999244202435584,-9.382706321398967,38.99973541318224,-9.381909979220731);); out body;\n",
            "[overpass] downloading data: [timeout:25][out:json];(node(39.02109455648981,-9.365866226375646,39.021714673402236,-9.364721771882753);way(39.02109455648981,-9.365866226375646,39.021714673402236,-9.364721771882753);relation(39.02109455648981,-9.365866226375646,39.021714673402236,-9.364721771882753);); out body;\n",
            "[overpass] downloading data: [timeout:25][out:json];(node(38.483733878941656,-9.182351073915543,38.484626105368015,-9.181214924403887);way(38.483733878941656,-9.182351073915543,38.484626105368015,-9.181214924403887);relation(38.483733878941656,-9.182351073915543,38.484626105368015,-9.181214924403887);); out body;\n",
            "[overpass] downloading data: [timeout:25][out:json];(node(38.64114406514741,-9.228738290734249,38.64165808055893,-9.227834122304497);way(38.64114406514741,-9.228738290734249,38.64165808055893,-9.227834122304497);relation(38.64114406514741,-9.228738290734249,38.64165808055893,-9.227834122304497);); out body;\n",
            "[overpass] downloading data: [timeout:25][out:json];(node(39.07808458262934,-9.359205707629132,39.07870466319071,-9.358060290624799);way(39.07808458262934,-9.359205707629132,39.07870466319071,-9.358060290624799);relation(39.07808458262934,-9.359205707629132,39.07870466319071,-9.358060290624799);); out body;\n",
            "[overpass] downloading data: [timeout:25][out:json];(node(37.13891684929499,-8.775309706023835,37.1391652232223,-8.774981469658625);way(37.13891684929499,-8.775309706023835,37.1391652232223,-8.774981469658625);relation(37.13891684929499,-8.775309706023835,37.1391652232223,-8.774981469658625);); out body;\n",
            "[overpass] downloading data: [timeout:25][out:json];(node(37.20929610388313,-8.794819082564851,37.20978764796091,-8.794136483004827);way(37.20929610388313,-8.794819082564851,37.20978764796091,-8.794136483004827);relation(37.20929610388313,-8.794819082564851,37.20978764796091,-8.794136483004827);); out body;\n",
            "[overpass] downloading data: [timeout:25][out:json];(node(37.34957450514009,-8.834330548620686,37.35019748257521,-8.833211449817652);way(37.34957450514009,-8.834330548620686,37.35019748257521,-8.833211449817652);relation(37.34957450514009,-8.834330548620686,37.35019748257521,-8.833211449817652);); out body;\n",
            "[overpass] downloading data: [timeout:25][out:json];(node(38.4531338023176,-9.149770869167234,38.4540261819621,-9.148635129157391);way(38.4531338023176,-9.149770869167234,38.4540261819621,-9.148635129157391);relation(38.4531338023176,-9.149770869167234,38.4540261819621,-9.148635129157391);); out body;\n",
            "[overpass] downloading data: [timeout:25][out:json];(node(38.52325388508954,-9.170315409844331,38.52414609926022,-9.169178588472723);way(38.52325388508954,-9.170315409844331,38.52414609926022,-9.169178588472723);relation(38.52325388508954,-9.170315409844331,38.52414609926022,-9.169178588472723);); out body;\n",
            "[overpass] downloading data: [timeout:25][out:json];(node(38.768442577287196,-9.242433476140347,38.7687922382577,-9.24152768920379);way(38.768442577287196,-9.242433476140347,38.7687922382577,-9.24152768920379);relation(38.768442577287196,-9.242433476140347,38.7687922382577,-9.24152768920379);); out body;\n",
            "[overpass] downloading data: [timeout:25][out:json];(node(37.12578438659022,-8.748697097973178,37.12600389300278,-8.74836890189376);way(37.12578438659022,-8.748697097973178,37.12600389300278,-8.74836890189376);relation(37.12578438659022,-8.748697097973178,37.12600389300278,-8.74836890189376);); out body;\n",
            "[overpass] downloading data: [timeout:25][out:json];(node(37.1606222397851,-8.758781189649907,37.161517743184966,-8.757664808808686);way(37.1606222397851,-8.758781189649907,37.161517743184966,-8.757664808808686);relation(37.1606222397851,-8.758781189649907,37.161517743184966,-8.757664808808686);); out body;\n",
            "[overpass] downloading data: [timeout:25][out:json];(node(37.28352238442451,-8.792816092296919,37.284417598671354,-8.791697906149658);way(37.28352238442451,-8.792816092296919,37.284417598671354,-8.791697906149658);relation(37.28352238442451,-8.792816092296919,37.284417598671354,-8.791697906149658);); out body;\n",
            "[overpass] downloading data: [timeout:25][out:json];(node(38.982384386665785,-9.282806018548913,38.983275598140494,-9.281661979719674);way(38.982384386665785,-9.282806018548913,38.983275598140494,-9.281661979719674);relation(38.982384386665785,-9.282806018548913,38.983275598140494,-9.281661979719674);); out body;\n",
            "[overpass] downloading data: [timeout:25][out:json];(node(39.01734442799729,-9.293292293580535,39.01823555684352,-9.292147704684133);way(39.01734442799729,-9.293292293580535,39.01823555684352,-9.292147704684133);relation(39.01734442799729,-9.293292293580535,39.01823555684352,-9.292147704684133);); out body;\n",
            "[overpass] downloading data: [timeout:25][out:json];(node(39.17455461389397,-9.340249424329757,39.1752619800839,-9.339653396511455);way(39.17455461389397,-9.340249424329757,39.1752619800839,-9.339653396511455);relation(39.17455461389397,-9.340249424329757,39.1752619800839,-9.339653396511455);); out body;\n",
            "[overpass] downloading data: [timeout:25][out:json];(node(37.340796710225256,-8.78505471414517,37.34119163257981,-8.78438545692835);way(37.340796710225256,-8.78505471414517,37.34119163257981,-8.78438545692835);relation(37.340796710225256,-8.78505471414517,37.34119163257981,-8.78438545692835);); out body;\n",
            "[overpass] downloading data: [timeout:25][out:json];(node(38.79464412408195,-9.203125579494202,38.79553586053923,-9.201984418797117);way(38.79464412408195,-9.203125579494202,38.79553586053923,-9.201984418797117);relation(38.79464412408195,-9.203125579494202,38.79553586053923,-9.201984418797117);); out body;\n",
            "[overpass] downloading data: [timeout:25][out:json];(node(38.95177430992687,-9.2501848095931,38.95266567484985,-9.249041188680826);way(38.95177430992687,-9.2501848095931,38.95266567484985,-9.249041188680826);relation(38.95177430992687,-9.2501848095931,38.95266567484985,-9.249041188680826);); out body;\n",
            "[overpass] downloading data: [timeout:25][out:json];(node(39.109568964122836,-9.29673272601466,39.10983102128944,-9.296227092104564);way(39.109568964122836,-9.29673272601466,39.10983102128944,-9.296227092104564);relation(39.109568964122836,-9.29673272601466,39.10983102128944,-9.296227092104564);); out body;\n",
            "[overpass] downloading data: [timeout:25][out:json];(node(37.13433213224984,-8.705308053157552,37.135227850694456,-8.70419194530709);way(37.13433213224984,-8.705308053157552,37.135227850694456,-8.70419194530709);relation(37.13433213224984,-8.705308053157552,37.135227850694456,-8.70419194530709);); out body;\n",
            "[overpass] downloading data: [timeout:25][out:json];(node(37.151882152862036,-8.710144181728065,37.152777830100305,-8.709027816734855);way(37.151882152862036,-8.710144181728065,37.152777830100305,-8.709027816734855);relation(37.151882152862036,-8.710144181728065,37.152777830100305,-8.709027816734855);); out body;\n",
            "[overpass] downloading data: [timeout:25][out:json];(node(38.57178382090638,-9.113402862079171,38.57249244607388,-9.112677819832406);way(38.57178382090638,-9.113402862079171,38.57249244607388,-9.112677819832406);relation(38.57178382090638,-9.113402862079171,38.57249244607388,-9.112677819832406);); out body;\n",
            "[overpass] downloading data: [timeout:25][out:json];(node(38.93935393297707,-9.2218112638755,38.93963578202099,-9.221172256095553);way(38.93935393297707,-9.2218112638755,38.93963578202099,-9.221172256095553);relation(38.93935393297707,-9.2218112638755,38.93963578202099,-9.221172256095553);); out body;\n",
            "[overpass] downloading data: [timeout:25][out:json];(node(39.02670523338814,-9.248057482337376,39.0273256285374,-9.247260568833745);way(39.02670523338814,-9.248057482337376,39.0273256285374,-9.247260568833745);relation(39.02670523338814,-9.248057482337376,39.0273256285374,-9.247260568833745);); out body;\n",
            "[overpass] downloading data: [timeout:25][out:json];(node(39.25355462418573,-9.316331890509606,39.25411642858864,-9.31558877112979);way(39.25355462418573,-9.316331890509606,39.25411642858864,-9.31558877112979);relation(39.25355462418573,-9.316331890509606,39.25411642858864,-9.31558877112979);); out body;\n",
            "[overpass] downloading data: [timeout:25][out:json];(node(39.35832474791167,-9.348523061717453,39.35921523726507,-9.347372936512537);way(39.35832474791167,-9.348523061717453,39.35921523726507,-9.347372936512537);relation(39.35832474791167,-9.348523061717453,39.35921523726507,-9.347372936512537);); out body;\n",
            "[overpass] downloading data: [timeout:25][out:json];(node(38.52380372414472,-9.076029538004114,38.524696260208366,-9.074892460320473);way(38.52380372414472,-9.076029538004114,38.524696260208366,-9.074892460320473);relation(38.52380372414472,-9.076029538004114,38.524696260208366,-9.074892460320473);); out body;\n",
            "[overpass] downloading data: [timeout:25][out:json];(node(38.61170625078789,-9.101257416504161,38.61179373417147,-9.101034194466218);way(38.61170625078789,-9.101257416504161,38.61179373417147,-9.101034194466218);relation(38.61170625078789,-9.101257416504161,38.61179373417147,-9.101034194466218);); out body;\n",
            "[overpass] downloading data: [timeout:25][out:json];(node(38.80418627309096,-9.158063952406849,38.80436115100856,-9.15789609513712);way(38.80418627309096,-9.158063952406849,38.80436115100856,-9.15789609513712);relation(38.80418627309096,-9.158063952406849,38.80436115100856,-9.15789609513712);); out body;\n",
            "[overpass] downloading data: [timeout:25][out:json];(node(38.99608671628022,-9.215170400999533,38.99665478205,-9.214553297611705);way(38.99608671628022,-9.215170400999533,38.99665478205,-9.214553297611705);relation(38.99608671628022,-9.215170400999533,38.99665478205,-9.214553297611705);); out body;\n",
            "[overpass] downloading data: [timeout:25][out:json];(node(39.013494299955795,-9.22073735952985,39.01438568488324,-9.219592638741108);way(39.013494299955795,-9.22073735952985,39.01438568488324,-9.219592638741108);relation(39.013494299955795,-9.22073735952985,39.01438568488324,-9.219592638741108);); out body;\n",
            "[overpass] downloading data: [timeout:25][out:json];(node(39.11835442337351,-9.251993558885966,39.11924556156879,-9.25097081086735);way(39.11835442337351,-9.251993558885966,39.11924556156879,-9.25097081086735);relation(39.11835442337351,-9.251993558885966,39.11924556156879,-9.25097081086735);); out body;\n",
            "[overpass] downloading data: [timeout:25][out:json];(node(37.283612230729815,-8.700237206063013,37.28445507468317,-8.69911879239057);way(37.283612230729815,-8.700237206063013,37.28445507468317,-8.69911879239057);relation(37.283612230729815,-8.700237206063013,37.28445507468317,-8.69911879239057);); out body;\n",
            "[overpass] downloading data: [timeout:25][out:json];(node(37.44164874378852,-8.743590877410863,37.44217592884757,-8.742953587591904);way(37.44164874378852,-8.743590877410863,37.44217592884757,-8.742953587591904);relation(37.44164874378852,-8.743590877410863,37.44217592884757,-8.742953587591904);); out body;\n",
            "[overpass] downloading data: [timeout:25][out:json];(node(37.56484364192633,-8.77808116913091,37.565304784746075,-8.77769597175856);way(37.56484364192633,-8.77808116913091,37.565304784746075,-8.77769597175856);relation(37.56484364192633,-8.77808116913091,37.565304784746075,-8.77769597175856);); out body;\n",
            "[overpass] downloading data: [timeout:25][out:json];(node(38.51081366869082,-9.048661468423493,38.51143502120728,-9.047814338397353);way(38.51081366869082,-9.048661468423493,38.51143502120728,-9.047814338397353);relation(38.51081366869082,-9.048661468423493,38.51143502120728,-9.047814338397353);); out body;\n",
            "[overpass] downloading data: [timeout:25][out:json];(node(38.63330381234944,-9.084451417375165,38.63419617211342,-9.083547047815582);way(38.63330381234944,-9.084451417375165,38.63419617211342,-9.083547047815582);relation(38.63330381234944,-9.084451417375165,38.63419617211342,-9.083547047815582);); out body;\n",
            "[overpass] downloading data: [timeout:25][out:json];(node(38.756035076366,-9.120477370556706,38.75665602846938,-9.119683324808205);way(38.756035076366,-9.120477370556706,38.75665602846938,-9.119683324808205);relation(38.756035076366,-9.120477370556706,38.75665602846938,-9.119683324808205);); out body;\n",
            "[overpass] downloading data: [timeout:25][out:json];(node(39.018044264209244,-9.198275427421923,39.01893572063498,-9.197130570850492);way(39.018044264209244,-9.198275427421923,39.01893572063498,-9.197130570850492);relation(39.018044264209244,-9.198275427421923,39.01893572063498,-9.197130570850492);); out body;\n",
            "[overpass] downloading data: [timeout:25][out:json];(node(39.21027449025455,-9.25588494832949,39.21116549477869,-9.254737049921323);way(39.21027449025455,-9.25588494832949,39.21116549477869,-9.254737049921323);relation(39.21027449025455,-9.25588494832949,39.21116549477869,-9.254737049921323);); out body;\n",
            "[overpass] downloading data: [timeout:25][out:json];(node(39.33254463414402,-9.292662919106158,39.33312098059003,-9.291873809958634);way(39.33254463414402,-9.292662919106158,39.33312098059003,-9.291873809958634);relation(39.33254463414402,-9.292662919106158,39.33312098059003,-9.291873809958634);); out body;\n",
            "[overpass] downloading data: [timeout:25][out:json];(node(37.55134250555619,-8.751405218199823,37.55223747781635,-8.750282780229105);way(37.55134250555619,-8.751405218199823,37.55223747781635,-8.750282780229105);relation(37.55134250555619,-8.751405218199823,37.55223747781635,-8.750282780229105);); out body;\n",
            "[overpass] downloading data: [timeout:25][out:json];(node(37.58644254657457,-8.761190479851916,37.58733743683384,-8.760067518573498);way(37.58644254657457,-8.761190479851916,37.58733743683384,-8.760067518573498);relation(37.58644254657457,-8.761190479851916,37.58733743683384,-8.760067518573498);); out body;\n",
            "[overpass] downloading data: [timeout:25][out:json];(node(38.93546885543849,-9.149843806856252,38.93604585879991,-9.149159880807305);way(38.93546885543849,-9.149843806856252,38.93604585879991,-9.149159880807305);relation(38.93546885543849,-9.149843806856252,38.93604585879991,-9.149159880807305);); out body;\n",
            "[overpass] downloading data: [timeout:25][out:json];(node(39.12744435163411,-9.20715732381806,39.12833563331842,-9.206010674444082);way(39.12744435163411,-9.20715732381806,39.12833563331842,-9.206010674444082);relation(39.12744435163411,-9.20715732381806,39.12833563331842,-9.206010674444082);); out body;\n"
          ]
        }
      ]
    },
    {
      "cell_type": "code",
      "metadata": {
        "id": "LDnCpNOZ9fIl"
      },
      "source": [
        ""
      ],
      "execution_count": null,
      "outputs": []
    }
  ]
}