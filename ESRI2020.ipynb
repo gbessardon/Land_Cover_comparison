{
  "nbformat": 4,
  "nbformat_minor": 0,
  "metadata": {
    "colab": {
      "name": "ESRI2020.ipynb",
      "provenance": [],
      "authorship_tag": "ABX9TyMqsdxxNuyRfvZPk2LSzsF+",
      "include_colab_link": true
    },
    "kernelspec": {
      "name": "python3",
      "display_name": "Python 3"
    },
    "language_info": {
      "name": "python"
    }
  },
  "cells": [
    {
      "cell_type": "markdown",
      "metadata": {
        "id": "view-in-github",
        "colab_type": "text"
      },
      "source": [
        "<a href=\"https://colab.research.google.com/github/gbessardon/Land_Cover_comparison/blob/main/ESRI2020.ipynb\" target=\"_parent\"><img src=\"https://colab.research.google.com/assets/colab-badge.svg\" alt=\"Open In Colab\"/></a>"
      ]
    },
    {
      "cell_type": "markdown",
      "metadata": {
        "id": "b4wQbDlSN6Bi"
      },
      "source": [
        "## Running environment options"
      ]
    },
    {
      "cell_type": "code",
      "metadata": {
        "id": "XJWc6DY9MG-i"
      },
      "source": [
        "colab=1 # 1 running on google collab\n",
        "drive=1 # 1 need to mount google drive"
      ],
      "execution_count": 1,
      "outputs": []
    },
    {
      "cell_type": "markdown",
      "metadata": {
        "id": "ITcTJQqIrW5k"
      },
      "source": [
        "## ESRI 2020 folder location"
      ]
    },
    {
      "cell_type": "code",
      "metadata": {
        "id": "KWi_KyKLxtTt"
      },
      "source": [
        "ESRIpath='/content/drive/MyDrive/ESRI2020'"
      ],
      "execution_count": 2,
      "outputs": []
    },
    {
      "cell_type": "markdown",
      "metadata": {
        "id": "TJMxXKuzN-dB"
      },
      "source": [
        "## LUCAS file location"
      ]
    },
    {
      "cell_type": "code",
      "metadata": {
        "id": "EuN9LJJrOIHu"
      },
      "source": [
        "fnshp='/content/drive/MyDrive/LUCAS2018/LUCAS_2018_Copernicus_polygons.shp'\n",
        "fncsv='/content/drive/MyDrive/LUCAS2018/LUCAS_2018_Copernicus_attributes.csv'"
      ],
      "execution_count": 3,
      "outputs": []
    },
    {
      "cell_type": "markdown",
      "metadata": {
        "id": "uqk_WAGMLyBX"
      },
      "source": [
        "# Run on collab and drive \n",
        "set colab=1 and drive=1  in running enviroment options"
      ]
    },
    {
      "cell_type": "markdown",
      "metadata": {
        "id": "-putHlFQLYnQ"
      },
      "source": [
        "## MOUNT google drive"
      ]
    },
    {
      "cell_type": "code",
      "metadata": {
        "colab": {
          "base_uri": "https://localhost:8080/"
        },
        "id": "hl4a3F-GvElB",
        "outputId": "f6d5b99b-6af5-44d7-ed82-d4f371145fc7"
      },
      "source": [
        "if drive==1:\n",
        "  from google.colab import drive\n",
        "  drive.mount('/content/drive')"
      ],
      "execution_count": 4,
      "outputs": [
        {
          "output_type": "stream",
          "name": "stdout",
          "text": [
            "Mounted at /content/drive\n"
          ]
        }
      ]
    },
    {
      "cell_type": "markdown",
      "metadata": {
        "id": "Zr5-_g9PLkS_"
      },
      "source": [
        "## install geopandas and pyrpoj for collab"
      ]
    },
    {
      "cell_type": "code",
      "metadata": {
        "colab": {
          "base_uri": "https://localhost:8080/"
        },
        "id": "iLVMeu3nLp22",
        "outputId": "7409fa9c-a609-472b-ca5d-fbf45fa8ec12"
      },
      "source": [
        "if colab==1:\n",
        "  !pip install geopandas\n",
        "  !pip install pyproj"
      ],
      "execution_count": 5,
      "outputs": [
        {
          "output_type": "stream",
          "name": "stdout",
          "text": [
            "Collecting geopandas\n",
            "  Downloading geopandas-0.10.2-py2.py3-none-any.whl (1.0 MB)\n",
            "\u001b[K     |████████████████████████████████| 1.0 MB 14.3 MB/s \n",
            "\u001b[?25hCollecting pyproj>=2.2.0\n",
            "  Downloading pyproj-3.2.1-cp37-cp37m-manylinux2010_x86_64.whl (6.3 MB)\n",
            "\u001b[K     |████████████████████████████████| 6.3 MB 61.9 MB/s \n",
            "\u001b[?25hRequirement already satisfied: pandas>=0.25.0 in /usr/local/lib/python3.7/dist-packages (from geopandas) (1.1.5)\n",
            "Collecting fiona>=1.8\n",
            "  Downloading Fiona-1.8.20-cp37-cp37m-manylinux1_x86_64.whl (15.4 MB)\n",
            "\u001b[K     |████████████████████████████████| 15.4 MB 17.3 MB/s \n",
            "\u001b[?25hRequirement already satisfied: shapely>=1.6 in /usr/local/lib/python3.7/dist-packages (from geopandas) (1.8.0)\n",
            "Requirement already satisfied: certifi in /usr/local/lib/python3.7/dist-packages (from fiona>=1.8->geopandas) (2021.10.8)\n",
            "Requirement already satisfied: six>=1.7 in /usr/local/lib/python3.7/dist-packages (from fiona>=1.8->geopandas) (1.15.0)\n",
            "Requirement already satisfied: click>=4.0 in /usr/local/lib/python3.7/dist-packages (from fiona>=1.8->geopandas) (7.1.2)\n",
            "Collecting munch\n",
            "  Downloading munch-2.5.0-py2.py3-none-any.whl (10 kB)\n",
            "Collecting cligj>=0.5\n",
            "  Downloading cligj-0.7.2-py3-none-any.whl (7.1 kB)\n",
            "Collecting click-plugins>=1.0\n",
            "  Downloading click_plugins-1.1.1-py2.py3-none-any.whl (7.5 kB)\n",
            "Requirement already satisfied: setuptools in /usr/local/lib/python3.7/dist-packages (from fiona>=1.8->geopandas) (57.4.0)\n",
            "Requirement already satisfied: attrs>=17 in /usr/local/lib/python3.7/dist-packages (from fiona>=1.8->geopandas) (21.2.0)\n",
            "Requirement already satisfied: python-dateutil>=2.7.3 in /usr/local/lib/python3.7/dist-packages (from pandas>=0.25.0->geopandas) (2.8.2)\n",
            "Requirement already satisfied: pytz>=2017.2 in /usr/local/lib/python3.7/dist-packages (from pandas>=0.25.0->geopandas) (2018.9)\n",
            "Requirement already satisfied: numpy>=1.15.4 in /usr/local/lib/python3.7/dist-packages (from pandas>=0.25.0->geopandas) (1.19.5)\n",
            "Installing collected packages: munch, cligj, click-plugins, pyproj, fiona, geopandas\n",
            "Successfully installed click-plugins-1.1.1 cligj-0.7.2 fiona-1.8.20 geopandas-0.10.2 munch-2.5.0 pyproj-3.2.1\n",
            "Requirement already satisfied: pyproj in /usr/local/lib/python3.7/dist-packages (3.2.1)\n",
            "Requirement already satisfied: certifi in /usr/local/lib/python3.7/dist-packages (from pyproj) (2021.10.8)\n"
          ]
        }
      ]
    },
    {
      "cell_type": "markdown",
      "metadata": {
        "id": "xrnNAa8lxvFS"
      },
      "source": [
        "# import libraires"
      ]
    },
    {
      "cell_type": "code",
      "metadata": {
        "id": "XPASJ5A8xufi"
      },
      "source": [
        "import os\n",
        "from osgeo import gdal\n",
        "from shapely import geometry\n",
        "import geopandas as gpd\n",
        "import numpy as np\n",
        "import shutil"
      ],
      "execution_count": 6,
      "outputs": []
    },
    {
      "cell_type": "markdown",
      "metadata": {
        "id": "TytO9B2abxCC"
      },
      "source": [
        "# Create functions"
      ]
    },
    {
      "cell_type": "markdown",
      "metadata": {
        "id": "n2cPcPA-WLso"
      },
      "source": [
        "## get a wgs84 polygon at the extent of the map\n"
      ]
    },
    {
      "cell_type": "code",
      "metadata": {
        "id": "nI_cneeQy7uK"
      },
      "source": [
        "def extract_polygon(fn):\n",
        "  opt=gdal.InfoOptions(format='json')\n",
        "  info=gdal.Info(fn,options=opt)\n",
        "  bounding_points=info['wgs84Extent']['coordinates'][0]\n",
        "  return geometry.Polygon(bounding_points)"
      ],
      "execution_count": 7,
      "outputs": []
    },
    {
      "cell_type": "markdown",
      "metadata": {
        "id": "Q4d1t8XbWS_0"
      },
      "source": [
        "## create directory to store the segment before zipping"
      ]
    },
    {
      "cell_type": "code",
      "metadata": {
        "id": "Z6Hekp0KmD9a"
      },
      "source": [
        "def create_sgement_dir(path=os.getcwd()):\n",
        "    outputdir=os.path.join(path,'LUCAS_Segment')\n",
        "    if not os.path.isdir(outputdir):\n",
        "      os.mkdir(outputdir)\n",
        "    return outputdir"
      ],
      "execution_count": 17,
      "outputs": []
    },
    {
      "cell_type": "markdown",
      "metadata": {
        "id": "1ypuTl6Ke9ve"
      },
      "source": [
        "## Search for LUCAS POINT ID inside each Each ESRI tile and store it inside the ESRI  GeoDataFrame  \n"
      ]
    },
    {
      "cell_type": "code",
      "metadata": {
        "id": "21qfvhR9e-kx"
      },
      "source": [
        "def point_id_cores(ESRIgdf,LUCASgdf):\n",
        "    pointidvalid=[]\n",
        "    for eg in ESRIgdf.geometry:\n",
        "      oklist=[eg.covers(lg) for lg in LUCASgdf.geometry]\n",
        "      pointidvalid.append(LUCASgdf['POINT_ID'].loc[np.array(oklist)==True].values)\n",
        "    pointidvalid\n",
        "    return(pointidvalid)"
      ],
      "execution_count": 13,
      "outputs": []
    },
    {
      "cell_type": "markdown",
      "metadata": {
        "id": "_X2CoBTmb0fA"
      },
      "source": [
        "# Main"
      ]
    },
    {
      "cell_type": "markdown",
      "metadata": {
        "id": "YAaYWy5HWpUR"
      },
      "source": [
        "## Create a GeoDataFrame with a bounding list of each ESRI tile"
      ]
    },
    {
      "cell_type": "code",
      "metadata": {
        "id": "zJxpfT4kzjo5"
      },
      "source": [
        "\n",
        "tiflist=[os.path.join(ESRIpath,f) for f in os.listdir(ESRIpath) if f.endswith('.tif')]\n",
        "boundinglist=[extract_polygon(t) for t in tiflist]\n",
        "d={'filemame': tiflist, 'geometry' : boundinglist}\n",
        "ESRIgdf=gpd.GeoDataFrame(d,crs=\"EPSG:4326\")"
      ],
      "execution_count": 10,
      "outputs": []
    },
    {
      "cell_type": "markdown",
      "metadata": {
        "id": "oL0YDeY3WtB1"
      },
      "source": [
        "## Open LUCAS shapefile in a geodatabase"
      ]
    },
    {
      "cell_type": "code",
      "metadata": {
        "id": "2jD4tyUJewNV"
      },
      "source": [
        "LUCASgdf = gpd.read_file(fnshp)"
      ],
      "execution_count": 11,
      "outputs": []
    },
    {
      "cell_type": "markdown",
      "metadata": {
        "id": "AAuL2XOKWxHB"
      },
      "source": [
        "## Search for LUCAS POINT ID inside each Each ESRI tile and store it inside the ESRI  GeoDataFrame  \n",
        "\n",
        "\n"
      ]
    },
    {
      "cell_type": "code",
      "metadata": {
        "id": "sEPPS5VEmn7K"
      },
      "source": [
        "ESRIgdf['validlucas']=point_id_cores(ESRIgdf,LUCASgdf)"
      ],
      "execution_count": 14,
      "outputs": []
    },
    {
      "cell_type": "markdown",
      "metadata": {
        "id": "2WdhfZO1W08E"
      },
      "source": [
        "## Create directory to store the segment before zipping"
      ]
    },
    {
      "cell_type": "code",
      "metadata": {
        "id": "JJRlHStS3vHS"
      },
      "source": [
        "outputdir=create_sgement_dir(path=os.getcwd())"
      ],
      "execution_count": 18,
      "outputs": []
    },
    {
      "cell_type": "markdown",
      "metadata": {
        "id": "2uC9JQkIW30n"
      },
      "source": [
        "## Create ESRI segments corresponding to the LUCAS segments"
      ]
    },
    {
      "cell_type": "code",
      "metadata": {
        "colab": {
          "base_uri": "https://localhost:8080/",
          "height": 432
        },
        "id": "jHRvX3QvNzkR",
        "outputId": "443914ce-0f4b-44ea-a1a3-c80110716d80"
      },
      "source": [
        "for i,d in ESRIgdf.iterrows():\n",
        "  if len(ESRIgdf['validlucas'][i])>0:\n",
        "    for j,_ in enumerate(ESRIgdf['validlucas'][i]):\n",
        "      lucasid=ESRIgdf['validlucas'][i][j]\n",
        "      outfile=os.path.join(outputdir,str(lucasid)+'.tif')\n",
        "      lucasp=LUCASgdf['geometry'].loc[LUCASgdf['POINT_ID']==ESRIgdf['validlucas'][i][j]].values[0]\n",
        "      bounds=lucasp.bounds\n",
        "      opt=gdal.WarpOptions(dstSRS=\"EPSG:4326\",outputBounds=bounds)\n",
        "      gdal.Warp(outfile,ESRIgdf.filemame[0],options=opt)"
      ],
      "execution_count": 19,
      "outputs": [
        {
          "output_type": "error",
          "ename": "SystemError",
          "evalue": "ignored",
          "traceback": [
            "\u001b[0;31m---------------------------------------------------------------------------\u001b[0m",
            "\u001b[0;31mKeyboardInterrupt\u001b[0m                         Traceback (most recent call last)",
            "\u001b[0;32m/usr/local/lib/python3.7/dist-packages/osgeo/gdal.py\u001b[0m in \u001b[0;36m<lambda>\u001b[0;34m(self, name, value)\u001b[0m\n\u001b[1;32m   1799\u001b[0m         \u001b[0m__swig_setmethods__\u001b[0m\u001b[0;34m.\u001b[0m\u001b[0mupdate\u001b[0m\u001b[0;34m(\u001b[0m\u001b[0mgetattr\u001b[0m\u001b[0;34m(\u001b[0m\u001b[0m_s\u001b[0m\u001b[0;34m,\u001b[0m \u001b[0;34m'__swig_setmethods__'\u001b[0m\u001b[0;34m,\u001b[0m \u001b[0;34m{\u001b[0m\u001b[0;34m}\u001b[0m\u001b[0;34m)\u001b[0m\u001b[0;34m)\u001b[0m\u001b[0;34m\u001b[0m\u001b[0;34m\u001b[0m\u001b[0m\n\u001b[0;32m-> 1800\u001b[0;31m     \u001b[0m__setattr__\u001b[0m \u001b[0;34m=\u001b[0m \u001b[0;32mlambda\u001b[0m \u001b[0mself\u001b[0m\u001b[0;34m,\u001b[0m \u001b[0mname\u001b[0m\u001b[0;34m,\u001b[0m \u001b[0mvalue\u001b[0m\u001b[0;34m:\u001b[0m \u001b[0m_swig_setattr\u001b[0m\u001b[0;34m(\u001b[0m\u001b[0mself\u001b[0m\u001b[0;34m,\u001b[0m \u001b[0mDataset\u001b[0m\u001b[0;34m,\u001b[0m \u001b[0mname\u001b[0m\u001b[0;34m,\u001b[0m \u001b[0mvalue\u001b[0m\u001b[0;34m)\u001b[0m\u001b[0;34m\u001b[0m\u001b[0;34m\u001b[0m\u001b[0m\n\u001b[0m\u001b[1;32m   1801\u001b[0m     \u001b[0m__swig_getmethods__\u001b[0m \u001b[0;34m=\u001b[0m \u001b[0;34m{\u001b[0m\u001b[0;34m}\u001b[0m\u001b[0;34m\u001b[0m\u001b[0;34m\u001b[0m\u001b[0m\n",
            "\u001b[0;31mKeyboardInterrupt\u001b[0m: ",
            "\nThe above exception was the direct cause of the following exception:\n",
            "\u001b[0;31mSystemError\u001b[0m                               Traceback (most recent call last)",
            "\u001b[0;32m<ipython-input-19-b308736205df>\u001b[0m in \u001b[0;36m<module>\u001b[0;34m()\u001b[0m\n\u001b[1;32m      7\u001b[0m       \u001b[0mbounds\u001b[0m\u001b[0;34m=\u001b[0m\u001b[0mlucasp\u001b[0m\u001b[0;34m.\u001b[0m\u001b[0mbounds\u001b[0m\u001b[0;34m\u001b[0m\u001b[0;34m\u001b[0m\u001b[0m\n\u001b[1;32m      8\u001b[0m       \u001b[0mopt\u001b[0m\u001b[0;34m=\u001b[0m\u001b[0mgdal\u001b[0m\u001b[0;34m.\u001b[0m\u001b[0mWarpOptions\u001b[0m\u001b[0;34m(\u001b[0m\u001b[0mdstSRS\u001b[0m\u001b[0;34m=\u001b[0m\u001b[0;34m\"EPSG:4326\"\u001b[0m\u001b[0;34m,\u001b[0m\u001b[0moutputBounds\u001b[0m\u001b[0;34m=\u001b[0m\u001b[0mbounds\u001b[0m\u001b[0;34m)\u001b[0m\u001b[0;34m\u001b[0m\u001b[0;34m\u001b[0m\u001b[0m\n\u001b[0;32m----> 9\u001b[0;31m       \u001b[0mgdal\u001b[0m\u001b[0;34m.\u001b[0m\u001b[0mWarp\u001b[0m\u001b[0;34m(\u001b[0m\u001b[0moutfile\u001b[0m\u001b[0;34m,\u001b[0m\u001b[0mESRIgdf\u001b[0m\u001b[0;34m.\u001b[0m\u001b[0mfilemame\u001b[0m\u001b[0;34m[\u001b[0m\u001b[0;36m0\u001b[0m\u001b[0;34m]\u001b[0m\u001b[0;34m,\u001b[0m\u001b[0moptions\u001b[0m\u001b[0;34m=\u001b[0m\u001b[0mopt\u001b[0m\u001b[0;34m)\u001b[0m\u001b[0;34m\u001b[0m\u001b[0;34m\u001b[0m\u001b[0m\n\u001b[0m",
            "\u001b[0;32m/usr/local/lib/python3.7/dist-packages/osgeo/gdal.py\u001b[0m in \u001b[0;36mWarp\u001b[0;34m(destNameOrDestDS, srcDSOrSrcDSTab, **kwargs)\u001b[0m\n\u001b[1;32m    573\u001b[0m \u001b[0;34m\u001b[0m\u001b[0m\n\u001b[1;32m    574\u001b[0m     \u001b[0;32mif\u001b[0m \u001b[0m_is_str_or_unicode\u001b[0m\u001b[0;34m(\u001b[0m\u001b[0mdestNameOrDestDS\u001b[0m\u001b[0;34m)\u001b[0m\u001b[0;34m:\u001b[0m\u001b[0;34m\u001b[0m\u001b[0;34m\u001b[0m\u001b[0m\n\u001b[0;32m--> 575\u001b[0;31m         \u001b[0;32mreturn\u001b[0m \u001b[0mwrapper_GDALWarpDestName\u001b[0m\u001b[0;34m(\u001b[0m\u001b[0mdestNameOrDestDS\u001b[0m\u001b[0;34m,\u001b[0m \u001b[0msrcDSTab\u001b[0m\u001b[0;34m,\u001b[0m \u001b[0mopts\u001b[0m\u001b[0;34m,\u001b[0m \u001b[0mcallback\u001b[0m\u001b[0;34m,\u001b[0m \u001b[0mcallback_data\u001b[0m\u001b[0;34m)\u001b[0m\u001b[0;34m\u001b[0m\u001b[0;34m\u001b[0m\u001b[0m\n\u001b[0m\u001b[1;32m    576\u001b[0m     \u001b[0;32melse\u001b[0m\u001b[0;34m:\u001b[0m\u001b[0;34m\u001b[0m\u001b[0;34m\u001b[0m\u001b[0m\n\u001b[1;32m    577\u001b[0m         \u001b[0;32mreturn\u001b[0m \u001b[0mwrapper_GDALWarpDestDS\u001b[0m\u001b[0;34m(\u001b[0m\u001b[0mdestNameOrDestDS\u001b[0m\u001b[0;34m,\u001b[0m \u001b[0msrcDSTab\u001b[0m\u001b[0;34m,\u001b[0m \u001b[0mopts\u001b[0m\u001b[0;34m,\u001b[0m \u001b[0mcallback\u001b[0m\u001b[0;34m,\u001b[0m \u001b[0mcallback_data\u001b[0m\u001b[0;34m)\u001b[0m\u001b[0;34m\u001b[0m\u001b[0;34m\u001b[0m\u001b[0m\n",
            "\u001b[0;32m/usr/local/lib/python3.7/dist-packages/osgeo/gdal.py\u001b[0m in \u001b[0;36mwrapper_GDALWarpDestName\u001b[0;34m(*args)\u001b[0m\n\u001b[1;32m   3119\u001b[0m \u001b[0;32mdef\u001b[0m \u001b[0mwrapper_GDALWarpDestName\u001b[0m\u001b[0;34m(\u001b[0m\u001b[0;34m*\u001b[0m\u001b[0margs\u001b[0m\u001b[0;34m)\u001b[0m\u001b[0;34m:\u001b[0m\u001b[0;34m\u001b[0m\u001b[0;34m\u001b[0m\u001b[0m\n\u001b[1;32m   3120\u001b[0m     \u001b[0;34m\"\"\"wrapper_GDALWarpDestName(char const * dest, int object_list_count, GDALWarpAppOptions warpAppOptions, GDALProgressFunc callback=0, void * callback_data=None) -> Dataset\"\"\"\u001b[0m\u001b[0;34m\u001b[0m\u001b[0;34m\u001b[0m\u001b[0m\n\u001b[0;32m-> 3121\u001b[0;31m     \u001b[0;32mreturn\u001b[0m \u001b[0m_gdal\u001b[0m\u001b[0;34m.\u001b[0m\u001b[0mwrapper_GDALWarpDestName\u001b[0m\u001b[0;34m(\u001b[0m\u001b[0;34m*\u001b[0m\u001b[0margs\u001b[0m\u001b[0;34m)\u001b[0m\u001b[0;34m\u001b[0m\u001b[0;34m\u001b[0m\u001b[0m\n\u001b[0m\u001b[1;32m   3122\u001b[0m \u001b[0;32mclass\u001b[0m \u001b[0mGDALVectorTranslateOptions\u001b[0m\u001b[0;34m(\u001b[0m\u001b[0m_object\u001b[0m\u001b[0;34m)\u001b[0m\u001b[0;34m:\u001b[0m\u001b[0;34m\u001b[0m\u001b[0;34m\u001b[0m\u001b[0m\n\u001b[1;32m   3123\u001b[0m     \u001b[0;34m\"\"\"Proxy of C++ GDALVectorTranslateOptions class.\"\"\"\u001b[0m\u001b[0;34m\u001b[0m\u001b[0;34m\u001b[0m\u001b[0m\n",
            "\u001b[0;31mSystemError\u001b[0m: <built-in function wrapper_GDALWarpDestName> returned a result with an error set"
          ]
        }
      ]
    },
    {
      "cell_type": "markdown",
      "metadata": {
        "id": "BQCZCgG0gYAH"
      },
      "source": [
        "## Save in a zip archive in google drive (prevents I/O errors)"
      ]
    },
    {
      "cell_type": "code",
      "metadata": {
        "id": "fwGZZDXjUtDs"
      },
      "source": [
        "shutil.make_archive(os.path.join(ESRIpath,'LUCAS_Segment'), 'zip', outputdir)"
      ],
      "execution_count": null,
      "outputs": []
    }
  ]
}