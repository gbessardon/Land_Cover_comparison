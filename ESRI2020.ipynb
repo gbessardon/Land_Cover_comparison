{
  "nbformat": 4,
  "nbformat_minor": 0,
  "metadata": {
    "colab": {
      "name": "ESRI2020.ipynb",
      "provenance": [],
      "authorship_tag": "ABX9TyP3muB2UeCM2NoISflMFNlW",
      "include_colab_link": true
    },
    "kernelspec": {
      "name": "python3",
      "display_name": "Python 3"
    },
    "language_info": {
      "name": "python"
    }
  },
  "cells": [
    {
      "cell_type": "markdown",
      "metadata": {
        "id": "view-in-github",
        "colab_type": "text"
      },
      "source": [
        "<a href=\"https://colab.research.google.com/github/gbessardon/Land_Cover_comparison/blob/main/ESRI2020.ipynb\" target=\"_parent\"><img src=\"https://colab.research.google.com/assets/colab-badge.svg\" alt=\"Open In Colab\"/></a>"
      ]
    },
    {
      "cell_type": "markdown",
      "metadata": {
        "id": "b4wQbDlSN6Bi"
      },
      "source": [
        "## Running environment options"
      ]
    },
    {
      "cell_type": "code",
      "metadata": {
        "id": "XJWc6DY9MG-i"
      },
      "source": [
        "colab=1 # 1 running on google collab\n",
        "drive=1 # 1 need to mount google drive"
      ],
      "execution_count": 16,
      "outputs": []
    },
    {
      "cell_type": "markdown",
      "metadata": {
        "id": "ITcTJQqIrW5k"
      },
      "source": [
        "## ESRI 2020 folder location"
      ]
    },
    {
      "cell_type": "code",
      "metadata": {
        "id": "KWi_KyKLxtTt"
      },
      "source": [
        "ESRIpath='/content/drive/MyDrive/ESRI2020'"
      ],
      "execution_count": 17,
      "outputs": []
    },
    {
      "cell_type": "markdown",
      "metadata": {
        "id": "TJMxXKuzN-dB"
      },
      "source": [
        "## LUCAS file location"
      ]
    },
    {
      "cell_type": "code",
      "metadata": {
        "id": "EuN9LJJrOIHu"
      },
      "source": [
        "fnshp='/content/drive/MyDrive/LUCAS2018/LUCAS_2018_Copernicus_polygons.shp'\n",
        "fncsv='/content/drive/MyDrive/LUCAS2018/LUCAS_2018_Copernicus_attributes.csv'"
      ],
      "execution_count": 18,
      "outputs": []
    },
    {
      "cell_type": "markdown",
      "metadata": {
        "id": "uqk_WAGMLyBX"
      },
      "source": [
        "# Run on collab and drive \n",
        "set colab=1 and drive=1  in running enviroment options"
      ]
    },
    {
      "cell_type": "markdown",
      "metadata": {
        "id": "-putHlFQLYnQ"
      },
      "source": [
        "## MOUNT google drive"
      ]
    },
    {
      "cell_type": "code",
      "metadata": {
        "colab": {
          "base_uri": "https://localhost:8080/"
        },
        "id": "hl4a3F-GvElB",
        "outputId": "bcd74214-d258-4b58-a15d-afea77a94502"
      },
      "source": [
        "if drive==1:\n",
        "  from google.colab import drive\n",
        "  drive.mount('/content/drive')"
      ],
      "execution_count": 19,
      "outputs": [
        {
          "output_type": "stream",
          "name": "stdout",
          "text": [
            "Drive already mounted at /content/drive; to attempt to forcibly remount, call drive.mount(\"/content/drive\", force_remount=True).\n"
          ]
        }
      ]
    },
    {
      "cell_type": "markdown",
      "metadata": {
        "id": "Zr5-_g9PLkS_"
      },
      "source": [
        "## install geopandas and pyrpoj for collab"
      ]
    },
    {
      "cell_type": "code",
      "metadata": {
        "colab": {
          "base_uri": "https://localhost:8080/"
        },
        "id": "iLVMeu3nLp22",
        "outputId": "74a410f0-f865-4003-8395-37902779105c"
      },
      "source": [
        "if colab==1:\n",
        "  !pip install geopandas\n",
        "  !pip install pyproj"
      ],
      "execution_count": 20,
      "outputs": [
        {
          "output_type": "stream",
          "name": "stdout",
          "text": [
            "Requirement already satisfied: geopandas in /usr/local/lib/python3.7/dist-packages (0.10.2)\n",
            "Requirement already satisfied: pyproj>=2.2.0 in /usr/local/lib/python3.7/dist-packages (from geopandas) (3.2.1)\n",
            "Requirement already satisfied: pandas>=0.25.0 in /usr/local/lib/python3.7/dist-packages (from geopandas) (1.1.5)\n",
            "Requirement already satisfied: fiona>=1.8 in /usr/local/lib/python3.7/dist-packages (from geopandas) (1.8.20)\n",
            "Requirement already satisfied: shapely>=1.6 in /usr/local/lib/python3.7/dist-packages (from geopandas) (1.8.0)\n",
            "Requirement already satisfied: munch in /usr/local/lib/python3.7/dist-packages (from fiona>=1.8->geopandas) (2.5.0)\n",
            "Requirement already satisfied: click-plugins>=1.0 in /usr/local/lib/python3.7/dist-packages (from fiona>=1.8->geopandas) (1.1.1)\n",
            "Requirement already satisfied: cligj>=0.5 in /usr/local/lib/python3.7/dist-packages (from fiona>=1.8->geopandas) (0.7.2)\n",
            "Requirement already satisfied: click>=4.0 in /usr/local/lib/python3.7/dist-packages (from fiona>=1.8->geopandas) (7.1.2)\n",
            "Requirement already satisfied: attrs>=17 in /usr/local/lib/python3.7/dist-packages (from fiona>=1.8->geopandas) (21.2.0)\n",
            "Requirement already satisfied: six>=1.7 in /usr/local/lib/python3.7/dist-packages (from fiona>=1.8->geopandas) (1.15.0)\n",
            "Requirement already satisfied: setuptools in /usr/local/lib/python3.7/dist-packages (from fiona>=1.8->geopandas) (57.4.0)\n",
            "Requirement already satisfied: certifi in /usr/local/lib/python3.7/dist-packages (from fiona>=1.8->geopandas) (2021.10.8)\n",
            "Requirement already satisfied: pytz>=2017.2 in /usr/local/lib/python3.7/dist-packages (from pandas>=0.25.0->geopandas) (2018.9)\n",
            "Requirement already satisfied: numpy>=1.15.4 in /usr/local/lib/python3.7/dist-packages (from pandas>=0.25.0->geopandas) (1.19.5)\n",
            "Requirement already satisfied: python-dateutil>=2.7.3 in /usr/local/lib/python3.7/dist-packages (from pandas>=0.25.0->geopandas) (2.8.2)\n",
            "Requirement already satisfied: pyproj in /usr/local/lib/python3.7/dist-packages (3.2.1)\n",
            "Requirement already satisfied: certifi in /usr/local/lib/python3.7/dist-packages (from pyproj) (2021.10.8)\n"
          ]
        }
      ]
    },
    {
      "cell_type": "markdown",
      "metadata": {
        "id": "xrnNAa8lxvFS"
      },
      "source": [
        "# import libraires"
      ]
    },
    {
      "cell_type": "code",
      "metadata": {
        "id": "XPASJ5A8xufi"
      },
      "source": [
        "import os\n",
        "from osgeo import gdal\n",
        "from shapely import geometry\n",
        "import geopandas as gpd\n",
        "import numpy as np\n",
        "import shutil"
      ],
      "execution_count": 21,
      "outputs": []
    },
    {
      "cell_type": "markdown",
      "metadata": {
        "id": "TytO9B2abxCC"
      },
      "source": [
        "# Create functions"
      ]
    },
    {
      "cell_type": "markdown",
      "metadata": {
        "id": "n2cPcPA-WLso"
      },
      "source": [
        "## get a wgs84 polygon at the extent of the map\n"
      ]
    },
    {
      "cell_type": "code",
      "metadata": {
        "id": "nI_cneeQy7uK"
      },
      "source": [
        "def extract_polygon(fn):\n",
        "  opt=gdal.InfoOptions(format='json')\n",
        "  info=gdal.Info(fn,options=opt)\n",
        "  bounding_points=info['wgs84Extent']['coordinates'][0]\n",
        "  return geometry.Polygon(bounding_points)"
      ],
      "execution_count": 22,
      "outputs": []
    },
    {
      "cell_type": "markdown",
      "metadata": {
        "id": "Q4d1t8XbWS_0"
      },
      "source": [
        "## create directory to store the segment before zipping"
      ]
    },
    {
      "cell_type": "code",
      "metadata": {
        "id": "Z6Hekp0KmD9a"
      },
      "source": [
        "def create_sgement_dir(path=os.getcwd()):\n",
        "    outputdir=os.path.join(path,'LUCAS_Segment')\n",
        "    if not os.path.isdir(outputdir):\n",
        "      os.mkdir(outputdir)\n",
        "    return outputdir"
      ],
      "execution_count": 23,
      "outputs": []
    },
    {
      "cell_type": "markdown",
      "metadata": {
        "id": "1ypuTl6Ke9ve"
      },
      "source": [
        "## Search for LUCAS POINT ID inside each Each ESRI tile and store it inside the ESRI  GeoDataFrame  \n"
      ]
    },
    {
      "cell_type": "code",
      "metadata": {
        "id": "21qfvhR9e-kx"
      },
      "source": [
        "def point_id_cores(ESRIgdf,LUCASgdf):\n",
        "    pointidvalid=[]\n",
        "    for eg in ESRIgdf.geometry:\n",
        "      oklist=[eg.covers(lg) for lg in LUCASgdf.geometry]\n",
        "      pointidvalid.append(LUCASgdf['POINT_ID'].loc[np.array(oklist)==True].values)\n",
        "    pointidvalid\n",
        "    return(pointidvalid)"
      ],
      "execution_count": 24,
      "outputs": []
    },
    {
      "cell_type": "markdown",
      "metadata": {
        "id": "_X2CoBTmb0fA"
      },
      "source": [
        "# Main"
      ]
    },
    {
      "cell_type": "markdown",
      "metadata": {
        "id": "YAaYWy5HWpUR"
      },
      "source": [
        "## Create a GeoDataFrame with a bounding list of each ESRI tile"
      ]
    },
    {
      "cell_type": "code",
      "metadata": {
        "id": "zJxpfT4kzjo5"
      },
      "source": [
        "\n",
        "tiflist=[os.path.join(ESRIpath,f) for f in os.listdir(ESRIpath) if f.endswith('.tif')]\n",
        "boundinglist=[extract_polygon(t) for t in tiflist]\n",
        "d={'filemame': tiflist, 'geometry' : boundinglist}\n",
        "ESRIgdf=gpd.GeoDataFrame(d,crs=\"EPSG:4326\")"
      ],
      "execution_count": 25,
      "outputs": []
    },
    {
      "cell_type": "markdown",
      "metadata": {
        "id": "oL0YDeY3WtB1"
      },
      "source": [
        "## Open LUCAS shapefile in a geodatabase"
      ]
    },
    {
      "cell_type": "code",
      "metadata": {
        "id": "2jD4tyUJewNV"
      },
      "source": [
        "LUCASgdf = gpd.read_file(fnshp)"
      ],
      "execution_count": 26,
      "outputs": []
    },
    {
      "cell_type": "markdown",
      "metadata": {
        "id": "AAuL2XOKWxHB"
      },
      "source": [
        "## Search for LUCAS POINT ID inside each Each ESRI tile and store it inside the ESRI  GeoDataFrame  \n",
        "\n",
        "\n"
      ]
    },
    {
      "cell_type": "code",
      "metadata": {
        "id": "sEPPS5VEmn7K"
      },
      "source": [
        "ESRIgdf['validlucas']=point_id_cores(ESRIgdf,LUCASgdf)"
      ],
      "execution_count": 27,
      "outputs": []
    },
    {
      "cell_type": "markdown",
      "metadata": {
        "id": "2WdhfZO1W08E"
      },
      "source": [
        "## Create directory to store the segment before zipping"
      ]
    },
    {
      "cell_type": "code",
      "metadata": {
        "id": "JJRlHStS3vHS"
      },
      "source": [
        "outputdir=create_sgement_dir(path=os.getcwd())"
      ],
      "execution_count": 28,
      "outputs": []
    },
    {
      "cell_type": "markdown",
      "metadata": {
        "id": "2uC9JQkIW30n"
      },
      "source": [
        "## Create ESRI segments corresponding to the LUCAS segments"
      ]
    },
    {
      "cell_type": "code",
      "metadata": {
        "id": "jHRvX3QvNzkR"
      },
      "source": [
        "for i,d in ESRIgdf.iterrows():\n",
        "  if len(ESRIgdf['validlucas'][i])>0:\n",
        "    for j,_ in enumerate(ESRIgdf['validlucas'][i]):\n",
        "      lucasid=ESRIgdf['validlucas'][i][j]\n",
        "      outfile=os.path.join(outputdir,str(lucasid)+'.tif')\n",
        "      lucasp=LUCASgdf['geometry'].loc[LUCASgdf['POINT_ID']==ESRIgdf['validlucas'][i][j]].values[0]\n",
        "      bounds=lucasp.bounds\n",
        "      opt=gdal.WarpOptions(dstSRS=\"EPSG:4326\",outputBounds=bounds,\n",
        "                           targetAlignedPixels=True,xRes=0.000089,yRes=0.000089)\n",
        "      gdal.Warp(outfile,ESRIgdf.filemame[0],options=opt)"
      ],
      "execution_count": 30,
      "outputs": []
    },
    {
      "cell_type": "markdown",
      "metadata": {
        "id": "BQCZCgG0gYAH"
      },
      "source": [
        "## Save in a zip archive in google drive (prevents I/O errors)"
      ]
    },
    {
      "cell_type": "code",
      "metadata": {
        "id": "fwGZZDXjUtDs",
        "colab": {
          "base_uri": "https://localhost:8080/",
          "height": 35
        },
        "outputId": "e149d169-3af7-4d2e-b2de-ebd35f68e3ba"
      },
      "source": [
        "shutil.make_archive(os.path.join(ESRIpath,'LUCAS_Segment'), 'zip', outputdir)"
      ],
      "execution_count": 31,
      "outputs": [
        {
          "output_type": "execute_result",
          "data": {
            "application/vnd.google.colaboratory.intrinsic+json": {
              "type": "string"
            },
            "text/plain": [
              "'/content/drive/MyDrive/ESRI2020/LUCAS_Segment.zip'"
            ]
          },
          "metadata": {},
          "execution_count": 31
        }
      ]
    }
  ]
}