{
  "nbformat": 4,
  "nbformat_minor": 0,
  "metadata": {
    "colab": {
      "name": "LUCAS_Copernicus.ipynb",
      "provenance": [],
      "authorship_tag": "ABX9TyOSgGaCNx7YiymAd1V86mi7",
      "include_colab_link": true
    },
    "kernelspec": {
      "name": "python3",
      "display_name": "Python 3"
    },
    "language_info": {
      "name": "python"
    }
  },
  "cells": [
    {
      "cell_type": "markdown",
      "metadata": {
        "id": "view-in-github",
        "colab_type": "text"
      },
      "source": [
        "<a href=\"https://colab.research.google.com/github/gbessardon/Land_Cover_comparison/blob/main/LUCAS_Copernicus.ipynb\" target=\"_parent\"><img src=\"https://colab.research.google.com/assets/colab-badge.svg\" alt=\"Open In Colab\"/></a>"
      ]
    },
    {
      "cell_type": "markdown",
      "metadata": {
        "id": "LZ-O88W8MBlH"
      },
      "source": [
        "# Declare variable and file location"
      ]
    },
    {
      "cell_type": "markdown",
      "metadata": {
        "id": "b4wQbDlSN6Bi"
      },
      "source": [
        "## Running environment options"
      ]
    },
    {
      "cell_type": "code",
      "metadata": {
        "id": "XJWc6DY9MG-i"
      },
      "source": [
        "colab=1 # 1 running on google collab\n",
        "drive=1 # 1 need to mount google drive"
      ],
      "execution_count": 1,
      "outputs": []
    },
    {
      "cell_type": "markdown",
      "metadata": {
        "id": "Z9HdAqCacDq8"
      },
      "source": [
        "## Output file name"
      ]
    },
    {
      "cell_type": "code",
      "metadata": {
        "id": "pXRcUJ5TcHlI"
      },
      "source": [
        "outfn='/content/drive/MyDrive/LUCAS2018/linkedfiles.csv'"
      ],
      "execution_count": 2,
      "outputs": []
    },
    {
      "cell_type": "markdown",
      "metadata": {
        "id": "TJMxXKuzN-dB"
      },
      "source": [
        "## LUCAS file location"
      ]
    },
    {
      "cell_type": "code",
      "metadata": {
        "id": "EuN9LJJrOIHu"
      },
      "source": [
        "fnshp='/content/drive/MyDrive/LUCAS2018/LUCAS_2018_Copernicus_polygons.shp'\n",
        "fncsv='/content/drive/MyDrive/LUCAS2018/LUCAS_2018_Copernicus_attributes.csv'"
      ],
      "execution_count": 3,
      "outputs": []
    },
    {
      "cell_type": "markdown",
      "metadata": {
        "id": "uqk_WAGMLyBX"
      },
      "source": [
        "# Run on collab and drive"
      ]
    },
    {
      "cell_type": "markdown",
      "metadata": {
        "id": "-putHlFQLYnQ"
      },
      "source": [
        "## MOUNT google drive"
      ]
    },
    {
      "cell_type": "code",
      "metadata": {
        "colab": {
          "base_uri": "https://localhost:8080/"
        },
        "id": "hl4a3F-GvElB",
        "outputId": "08e50250-ee95-4b3a-e845-bae5c5001af8"
      },
      "source": [
        "if drive==1:\n",
        "  from google.colab import drive\n",
        "  drive.mount('/content/drive')"
      ],
      "execution_count": 4,
      "outputs": [
        {
          "output_type": "stream",
          "name": "stdout",
          "text": [
            "Drive already mounted at /content/drive; to attempt to forcibly remount, call drive.mount(\"/content/drive\", force_remount=True).\n"
          ]
        }
      ]
    },
    {
      "cell_type": "markdown",
      "metadata": {
        "id": "Zr5-_g9PLkS_"
      },
      "source": [
        "## install geopandas and pyrpoj for collab"
      ]
    },
    {
      "cell_type": "code",
      "metadata": {
        "colab": {
          "base_uri": "https://localhost:8080/"
        },
        "id": "iLVMeu3nLp22",
        "outputId": "0ae850b8-e949-4b84-d119-283fcfde2ad0"
      },
      "source": [
        "if colab==1:\n",
        "  !pip install geopandas\n",
        "  !pip install pyproj"
      ],
      "execution_count": 5,
      "outputs": [
        {
          "output_type": "stream",
          "name": "stdout",
          "text": [
            "Requirement already satisfied: geopandas in /usr/local/lib/python3.7/dist-packages (0.10.2)\n",
            "Requirement already satisfied: pandas>=0.25.0 in /usr/local/lib/python3.7/dist-packages (from geopandas) (1.1.5)\n",
            "Requirement already satisfied: shapely>=1.6 in /usr/local/lib/python3.7/dist-packages (from geopandas) (1.8.0)\n",
            "Requirement already satisfied: fiona>=1.8 in /usr/local/lib/python3.7/dist-packages (from geopandas) (1.8.20)\n",
            "Requirement already satisfied: pyproj>=2.2.0 in /usr/local/lib/python3.7/dist-packages (from geopandas) (3.2.1)\n",
            "Requirement already satisfied: six>=1.7 in /usr/local/lib/python3.7/dist-packages (from fiona>=1.8->geopandas) (1.15.0)\n",
            "Requirement already satisfied: setuptools in /usr/local/lib/python3.7/dist-packages (from fiona>=1.8->geopandas) (57.4.0)\n",
            "Requirement already satisfied: click>=4.0 in /usr/local/lib/python3.7/dist-packages (from fiona>=1.8->geopandas) (7.1.2)\n",
            "Requirement already satisfied: attrs>=17 in /usr/local/lib/python3.7/dist-packages (from fiona>=1.8->geopandas) (21.2.0)\n",
            "Requirement already satisfied: munch in /usr/local/lib/python3.7/dist-packages (from fiona>=1.8->geopandas) (2.5.0)\n",
            "Requirement already satisfied: cligj>=0.5 in /usr/local/lib/python3.7/dist-packages (from fiona>=1.8->geopandas) (0.7.2)\n",
            "Requirement already satisfied: certifi in /usr/local/lib/python3.7/dist-packages (from fiona>=1.8->geopandas) (2021.10.8)\n",
            "Requirement already satisfied: click-plugins>=1.0 in /usr/local/lib/python3.7/dist-packages (from fiona>=1.8->geopandas) (1.1.1)\n",
            "Requirement already satisfied: pytz>=2017.2 in /usr/local/lib/python3.7/dist-packages (from pandas>=0.25.0->geopandas) (2018.9)\n",
            "Requirement already satisfied: python-dateutil>=2.7.3 in /usr/local/lib/python3.7/dist-packages (from pandas>=0.25.0->geopandas) (2.8.2)\n",
            "Requirement already satisfied: numpy>=1.15.4 in /usr/local/lib/python3.7/dist-packages (from pandas>=0.25.0->geopandas) (1.19.5)\n",
            "Requirement already satisfied: pyproj in /usr/local/lib/python3.7/dist-packages (3.2.1)\n",
            "Requirement already satisfied: certifi in /usr/local/lib/python3.7/dist-packages (from pyproj) (2021.10.8)\n"
          ]
        }
      ]
    },
    {
      "cell_type": "markdown",
      "metadata": {
        "id": "j-d_HscYcdgp"
      },
      "source": [
        "# Import libraries"
      ]
    },
    {
      "cell_type": "code",
      "metadata": {
        "id": "C4ASf9VqSmba"
      },
      "source": [
        "import geopandas as gpd\n",
        "import pandas as pd"
      ],
      "execution_count": 6,
      "outputs": []
    },
    {
      "cell_type": "markdown",
      "metadata": {
        "id": "dpLhVY9QTJ9r"
      },
      "source": [
        "# Create function that merges features and polygon and saves it to a shape file"
      ]
    },
    {
      "cell_type": "code",
      "metadata": {
        "id": "YYda0hEiShGf"
      },
      "source": [
        "def mergeshpfeatures(fnshp,fncsv,outfn):\n",
        "    gdf = gpd.read_file(fnshp)\n",
        "    df=pd.read_csv(fncsv,low_memory=False)\n",
        "    gdf['LC1']=df.LC1\n",
        "    gdf['LC1_LABEL']=df.LC1_LABEL\n",
        "    gdf['LU1']=df.LU1\n",
        "    gdf['LU1_LABEL']=df.LU1_LABEL\n",
        "    gdf['LC2']=df.LC2\n",
        "    gdf['LC2_LABEL']=df.LC2_LABEL\n",
        "    gdf['LU2']=df.LU2\n",
        "    gdf['LU2_LABEL']=df.LU2_LABEL\n",
        "    gdf.to_csv(outfn)\n",
        "    return gdf"
      ],
      "execution_count": 7,
      "outputs": []
    },
    {
      "cell_type": "markdown",
      "metadata": {
        "id": "qiYRV1osTR5q"
      },
      "source": [
        "# Main"
      ]
    },
    {
      "cell_type": "code",
      "metadata": {
        "id": "pZjAstRhcS6d"
      },
      "source": [
        "gdf=mergeshpfeatures(fnshp,fncsv,outfn)"
      ],
      "execution_count": 8,
      "outputs": []
    },
    {
      "cell_type": "code",
      "metadata": {
        "colab": {
          "base_uri": "https://localhost:8080/",
          "height": 424
        },
        "id": "zbh7QCkNq8_8",
        "outputId": "07423792-dbe9-403c-bb96-4a61c69d57e2"
      },
      "source": [
        "gdf"
      ],
      "execution_count": 9,
      "outputs": [
        {
          "output_type": "execute_result",
          "data": {
            "text/html": [
              "<div>\n",
              "<style scoped>\n",
              "    .dataframe tbody tr th:only-of-type {\n",
              "        vertical-align: middle;\n",
              "    }\n",
              "\n",
              "    .dataframe tbody tr th {\n",
              "        vertical-align: top;\n",
              "    }\n",
              "\n",
              "    .dataframe thead th {\n",
              "        text-align: right;\n",
              "    }\n",
              "</style>\n",
              "<table border=\"1\" class=\"dataframe\">\n",
              "  <thead>\n",
              "    <tr style=\"text-align: right;\">\n",
              "      <th></th>\n",
              "      <th>POINT_ID</th>\n",
              "      <th>geometry</th>\n",
              "      <th>LC1</th>\n",
              "      <th>LC1_LABEL</th>\n",
              "      <th>LU1</th>\n",
              "      <th>LU1_LABEL</th>\n",
              "      <th>LC2</th>\n",
              "      <th>LC2_LABEL</th>\n",
              "      <th>LU2</th>\n",
              "      <th>LU2_LABEL</th>\n",
              "    </tr>\n",
              "  </thead>\n",
              "  <tbody>\n",
              "    <tr>\n",
              "      <th>0</th>\n",
              "      <td>26461768</td>\n",
              "      <td>POLYGON ((-8.90670 37.11246, -8.90662 37.11295...</td>\n",
              "      <td>D10</td>\n",
              "      <td>Shrubland with sparse tree cover</td>\n",
              "      <td>U420</td>\n",
              "      <td>Semi-natural and natural areas not in use</td>\n",
              "      <td>8</td>\n",
              "      <td>Not relevant</td>\n",
              "      <td>8</td>\n",
              "      <td>Not relevant</td>\n",
              "    </tr>\n",
              "    <tr>\n",
              "      <th>1</th>\n",
              "      <td>26501768</td>\n",
              "      <td>POLYGON ((-8.86333 37.12127, -8.86290 37.12183...</td>\n",
              "      <td>C22</td>\n",
              "      <td>Pine dominated coniferous woodland</td>\n",
              "      <td>U120</td>\n",
              "      <td>Forestry</td>\n",
              "      <td>8</td>\n",
              "      <td>Not relevant</td>\n",
              "      <td>8</td>\n",
              "      <td>Not relevant</td>\n",
              "    </tr>\n",
              "    <tr>\n",
              "      <th>2</th>\n",
              "      <td>26521762</td>\n",
              "      <td>POLYGON ((-8.82685 37.07305, -8.82637 37.07342...</td>\n",
              "      <td>D10</td>\n",
              "      <td>Shrubland with sparse tree cover</td>\n",
              "      <td>U420</td>\n",
              "      <td>Semi-natural and natural areas not in use</td>\n",
              "      <td>8</td>\n",
              "      <td>Not relevant</td>\n",
              "      <td>8</td>\n",
              "      <td>Not relevant</td>\n",
              "    </tr>\n",
              "    <tr>\n",
              "      <th>3</th>\n",
              "      <td>26521776</td>\n",
              "      <td>POLYGON ((-8.86046 37.19602, -8.86041 37.19612...</td>\n",
              "      <td>E20</td>\n",
              "      <td>Grassland without tree/shrub cover</td>\n",
              "      <td>U111</td>\n",
              "      <td>Agriculture (excluding fallow land and kitchen...</td>\n",
              "      <td>8</td>\n",
              "      <td>Not relevant</td>\n",
              "      <td>8</td>\n",
              "      <td>Not relevant</td>\n",
              "    </tr>\n",
              "    <tr>\n",
              "      <th>4</th>\n",
              "      <td>26521978</td>\n",
              "      <td>POLYGON ((-9.37218 38.96451, -9.37203 38.96482...</td>\n",
              "      <td>E20</td>\n",
              "      <td>Grassland without tree/shrub cover</td>\n",
              "      <td>U111</td>\n",
              "      <td>Agriculture (excluding fallow land and kitchen...</td>\n",
              "      <td>8</td>\n",
              "      <td>Not relevant</td>\n",
              "      <td>8</td>\n",
              "      <td>Not relevant</td>\n",
              "    </tr>\n",
              "    <tr>\n",
              "      <th>...</th>\n",
              "      <td>...</td>\n",
              "      <td>...</td>\n",
              "      <td>...</td>\n",
              "      <td>...</td>\n",
              "      <td>...</td>\n",
              "      <td>...</td>\n",
              "      <td>...</td>\n",
              "      <td>...</td>\n",
              "      <td>...</td>\n",
              "      <td>...</td>\n",
              "    </tr>\n",
              "    <tr>\n",
              "      <th>63282</th>\n",
              "      <td>64981670</td>\n",
              "      <td>POLYGON ((34.02326 34.99589, 34.02395 34.99619...</td>\n",
              "      <td>D20</td>\n",
              "      <td>Shrubland without tree cover</td>\n",
              "      <td>U420</td>\n",
              "      <td>Semi-natural and natural areas not in use</td>\n",
              "      <td>8</td>\n",
              "      <td>Not relevant</td>\n",
              "      <td>8</td>\n",
              "      <td>Not relevant</td>\n",
              "    </tr>\n",
              "    <tr>\n",
              "      <th>63283</th>\n",
              "      <td>64981672</td>\n",
              "      <td>POLYGON ((34.02945 35.01305, 34.02981 35.01343...</td>\n",
              "      <td>D20</td>\n",
              "      <td>Shrubland without tree cover</td>\n",
              "      <td>U420</td>\n",
              "      <td>Semi-natural and natural areas not in use</td>\n",
              "      <td>8</td>\n",
              "      <td>Not relevant</td>\n",
              "      <td>8</td>\n",
              "      <td>Not relevant</td>\n",
              "    </tr>\n",
              "    <tr>\n",
              "      <th>63284</th>\n",
              "      <td>65001668</td>\n",
              "      <td>POLYGON ((34.03888 34.97290, 34.03899 34.97306...</td>\n",
              "      <td>F20</td>\n",
              "      <td>Sand</td>\n",
              "      <td>U361</td>\n",
              "      <td>Amenities, museums, leisure</td>\n",
              "      <td>8</td>\n",
              "      <td>Not relevant</td>\n",
              "      <td>8</td>\n",
              "      <td>Not relevant</td>\n",
              "    </tr>\n",
              "    <tr>\n",
              "      <th>63285</th>\n",
              "      <td>65001672</td>\n",
              "      <td>POLYGON ((34.05012 35.00751, 34.05075 35.00763...</td>\n",
              "      <td>C10</td>\n",
              "      <td>Broadleaved woodland</td>\n",
              "      <td>U420</td>\n",
              "      <td>Semi-natural and natural areas not in use</td>\n",
              "      <td>8</td>\n",
              "      <td>Not relevant</td>\n",
              "      <td>8</td>\n",
              "      <td>Not relevant</td>\n",
              "    </tr>\n",
              "    <tr>\n",
              "      <th>63286</th>\n",
              "      <td>65021668</td>\n",
              "      <td>POLYGON ((34.05976 34.96731, 34.06001 34.96743...</td>\n",
              "      <td>E20</td>\n",
              "      <td>Grassland without tree/shrub cover</td>\n",
              "      <td>U420</td>\n",
              "      <td>Semi-natural and natural areas not in use</td>\n",
              "      <td>8</td>\n",
              "      <td>Not relevant</td>\n",
              "      <td>8</td>\n",
              "      <td>Not relevant</td>\n",
              "    </tr>\n",
              "  </tbody>\n",
              "</table>\n",
              "<p>63287 rows × 10 columns</p>\n",
              "</div>"
            ],
            "text/plain": [
              "       POINT_ID  ...     LU2_LABEL\n",
              "0      26461768  ...  Not relevant\n",
              "1      26501768  ...  Not relevant\n",
              "2      26521762  ...  Not relevant\n",
              "3      26521776  ...  Not relevant\n",
              "4      26521978  ...  Not relevant\n",
              "...         ...  ...           ...\n",
              "63282  64981670  ...  Not relevant\n",
              "63283  64981672  ...  Not relevant\n",
              "63284  65001668  ...  Not relevant\n",
              "63285  65001672  ...  Not relevant\n",
              "63286  65021668  ...  Not relevant\n",
              "\n",
              "[63287 rows x 10 columns]"
            ]
          },
          "metadata": {},
          "execution_count": 9
        }
      ]
    }
  ]
}