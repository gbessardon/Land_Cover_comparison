{
  "nbformat": 4,
  "nbformat_minor": 0,
  "metadata": {
    "colab": {
      "name": "LUCAS_Copernicus.ipynb",
      "provenance": [],
      "authorship_tag": "ABX9TyNDtC8hVBQd/GOb529u8/hr",
      "include_colab_link": true
    },
    "kernelspec": {
      "name": "python3",
      "display_name": "Python 3"
    },
    "language_info": {
      "name": "python"
    }
  },
  "cells": [
    {
      "cell_type": "markdown",
      "metadata": {
        "id": "view-in-github",
        "colab_type": "text"
      },
      "source": [
        "<a href=\"https://colab.research.google.com/github/gbessardon/Land_Cover_comparison/blob/main/LUCAS_Copernicus.ipynb\" target=\"_parent\"><img src=\"https://colab.research.google.com/assets/colab-badge.svg\" alt=\"Open In Colab\"/></a>"
      ]
    },
    {
      "cell_type": "markdown",
      "metadata": {
        "id": "LZ-O88W8MBlH"
      },
      "source": [
        "# Declare variable and file location"
      ]
    },
    {
      "cell_type": "markdown",
      "metadata": {
        "id": "b4wQbDlSN6Bi"
      },
      "source": [
        "## Running environment options"
      ]
    },
    {
      "cell_type": "code",
      "metadata": {
        "id": "XJWc6DY9MG-i"
      },
      "source": [
        "colab=1 # 1 running on google collab\n",
        "drive=1 # 1 need to mount google drive"
      ],
      "execution_count": 2,
      "outputs": []
    },
    {
      "cell_type": "markdown",
      "metadata": {
        "id": "Z9HdAqCacDq8"
      },
      "source": [
        "## Output file name"
      ]
    },
    {
      "cell_type": "code",
      "metadata": {
        "id": "pXRcUJ5TcHlI"
      },
      "source": [
        "outfn='/content/drive/MyDrive/LUCAS2018/linkedfiles.csv'"
      ],
      "execution_count": 3,
      "outputs": []
    },
    {
      "cell_type": "markdown",
      "metadata": {
        "id": "TJMxXKuzN-dB"
      },
      "source": [
        "## LUCAS file location"
      ]
    },
    {
      "cell_type": "code",
      "metadata": {
        "id": "EuN9LJJrOIHu"
      },
      "source": [
        "fnshp='/content/drive/MyDrive/LUCAS2018/LUCAS_2018_Copernicus_polygons.shp'\n",
        "fncsv='/content/drive/MyDrive/LUCAS2018/LUCAS_2018_Copernicus_attributes.csv'"
      ],
      "execution_count": 4,
      "outputs": []
    },
    {
      "cell_type": "markdown",
      "metadata": {
        "id": "uqk_WAGMLyBX"
      },
      "source": [
        "# Run on collab and drive"
      ]
    },
    {
      "cell_type": "markdown",
      "metadata": {
        "id": "-putHlFQLYnQ"
      },
      "source": [
        "## MOUNT google drive"
      ]
    },
    {
      "cell_type": "code",
      "metadata": {
        "colab": {
          "base_uri": "https://localhost:8080/"
        },
        "id": "hl4a3F-GvElB",
        "outputId": "c94110d8-f33b-4e38-fac3-dda727fa426e"
      },
      "source": [
        "if drive==1:\n",
        "  from google.colab import drive\n",
        "  drive.mount('/content/drive')"
      ],
      "execution_count": 5,
      "outputs": [
        {
          "output_type": "stream",
          "name": "stdout",
          "text": [
            "Mounted at /content/drive\n"
          ]
        }
      ]
    },
    {
      "cell_type": "markdown",
      "metadata": {
        "id": "Zr5-_g9PLkS_"
      },
      "source": [
        "## install geopandas and pyrpoj for collab"
      ]
    },
    {
      "cell_type": "code",
      "metadata": {
        "colab": {
          "base_uri": "https://localhost:8080/"
        },
        "id": "iLVMeu3nLp22",
        "outputId": "df93cc0d-5265-4d4c-8573-8a07a60d9f78"
      },
      "source": [
        "if colab==1:\n",
        "  !pip install geopandas\n",
        "  !pip install pyproj"
      ],
      "execution_count": 6,
      "outputs": [
        {
          "output_type": "stream",
          "name": "stdout",
          "text": [
            "Collecting geopandas\n",
            "  Downloading geopandas-0.10.2-py2.py3-none-any.whl (1.0 MB)\n",
            "\u001b[?25l\r\u001b[K     |▎                               | 10 kB 22.6 MB/s eta 0:00:01\r\u001b[K     |▋                               | 20 kB 24.5 MB/s eta 0:00:01\r\u001b[K     |█                               | 30 kB 26.1 MB/s eta 0:00:01\r\u001b[K     |█▎                              | 40 kB 26.6 MB/s eta 0:00:01\r\u001b[K     |█▋                              | 51 kB 24.0 MB/s eta 0:00:01\r\u001b[K     |██                              | 61 kB 24.6 MB/s eta 0:00:01\r\u001b[K     |██▎                             | 71 kB 24.7 MB/s eta 0:00:01\r\u001b[K     |██▌                             | 81 kB 26.0 MB/s eta 0:00:01\r\u001b[K     |██▉                             | 92 kB 27.5 MB/s eta 0:00:01\r\u001b[K     |███▏                            | 102 kB 23.6 MB/s eta 0:00:01\r\u001b[K     |███▌                            | 112 kB 23.6 MB/s eta 0:00:01\r\u001b[K     |███▉                            | 122 kB 23.6 MB/s eta 0:00:01\r\u001b[K     |████▏                           | 133 kB 23.6 MB/s eta 0:00:01\r\u001b[K     |████▌                           | 143 kB 23.6 MB/s eta 0:00:01\r\u001b[K     |████▊                           | 153 kB 23.6 MB/s eta 0:00:01\r\u001b[K     |█████                           | 163 kB 23.6 MB/s eta 0:00:01\r\u001b[K     |█████▍                          | 174 kB 23.6 MB/s eta 0:00:01\r\u001b[K     |█████▊                          | 184 kB 23.6 MB/s eta 0:00:01\r\u001b[K     |██████                          | 194 kB 23.6 MB/s eta 0:00:01\r\u001b[K     |██████▍                         | 204 kB 23.6 MB/s eta 0:00:01\r\u001b[K     |██████▊                         | 215 kB 23.6 MB/s eta 0:00:01\r\u001b[K     |███████                         | 225 kB 23.6 MB/s eta 0:00:01\r\u001b[K     |███████▎                        | 235 kB 23.6 MB/s eta 0:00:01\r\u001b[K     |███████▋                        | 245 kB 23.6 MB/s eta 0:00:01\r\u001b[K     |████████                        | 256 kB 23.6 MB/s eta 0:00:01\r\u001b[K     |████████▎                       | 266 kB 23.6 MB/s eta 0:00:01\r\u001b[K     |████████▋                       | 276 kB 23.6 MB/s eta 0:00:01\r\u001b[K     |█████████                       | 286 kB 23.6 MB/s eta 0:00:01\r\u001b[K     |█████████▏                      | 296 kB 23.6 MB/s eta 0:00:01\r\u001b[K     |█████████▌                      | 307 kB 23.6 MB/s eta 0:00:01\r\u001b[K     |█████████▉                      | 317 kB 23.6 MB/s eta 0:00:01\r\u001b[K     |██████████▏                     | 327 kB 23.6 MB/s eta 0:00:01\r\u001b[K     |██████████▌                     | 337 kB 23.6 MB/s eta 0:00:01\r\u001b[K     |██████████▉                     | 348 kB 23.6 MB/s eta 0:00:01\r\u001b[K     |███████████▏                    | 358 kB 23.6 MB/s eta 0:00:01\r\u001b[K     |███████████▍                    | 368 kB 23.6 MB/s eta 0:00:01\r\u001b[K     |███████████▊                    | 378 kB 23.6 MB/s eta 0:00:01\r\u001b[K     |████████████                    | 389 kB 23.6 MB/s eta 0:00:01\r\u001b[K     |████████████▍                   | 399 kB 23.6 MB/s eta 0:00:01\r\u001b[K     |████████████▊                   | 409 kB 23.6 MB/s eta 0:00:01\r\u001b[K     |█████████████                   | 419 kB 23.6 MB/s eta 0:00:01\r\u001b[K     |█████████████▍                  | 430 kB 23.6 MB/s eta 0:00:01\r\u001b[K     |█████████████▋                  | 440 kB 23.6 MB/s eta 0:00:01\r\u001b[K     |██████████████                  | 450 kB 23.6 MB/s eta 0:00:01\r\u001b[K     |██████████████▎                 | 460 kB 23.6 MB/s eta 0:00:01\r\u001b[K     |██████████████▋                 | 471 kB 23.6 MB/s eta 0:00:01\r\u001b[K     |███████████████                 | 481 kB 23.6 MB/s eta 0:00:01\r\u001b[K     |███████████████▎                | 491 kB 23.6 MB/s eta 0:00:01\r\u001b[K     |███████████████▋                | 501 kB 23.6 MB/s eta 0:00:01\r\u001b[K     |███████████████▉                | 512 kB 23.6 MB/s eta 0:00:01\r\u001b[K     |████████████████▏               | 522 kB 23.6 MB/s eta 0:00:01\r\u001b[K     |████████████████▌               | 532 kB 23.6 MB/s eta 0:00:01\r\u001b[K     |████████████████▉               | 542 kB 23.6 MB/s eta 0:00:01\r\u001b[K     |█████████████████▏              | 552 kB 23.6 MB/s eta 0:00:01\r\u001b[K     |█████████████████▌              | 563 kB 23.6 MB/s eta 0:00:01\r\u001b[K     |█████████████████▉              | 573 kB 23.6 MB/s eta 0:00:01\r\u001b[K     |██████████████████              | 583 kB 23.6 MB/s eta 0:00:01\r\u001b[K     |██████████████████▍             | 593 kB 23.6 MB/s eta 0:00:01\r\u001b[K     |██████████████████▊             | 604 kB 23.6 MB/s eta 0:00:01\r\u001b[K     |███████████████████             | 614 kB 23.6 MB/s eta 0:00:01\r\u001b[K     |███████████████████▍            | 624 kB 23.6 MB/s eta 0:00:01\r\u001b[K     |███████████████████▊            | 634 kB 23.6 MB/s eta 0:00:01\r\u001b[K     |████████████████████            | 645 kB 23.6 MB/s eta 0:00:01\r\u001b[K     |████████████████████▎           | 655 kB 23.6 MB/s eta 0:00:01\r\u001b[K     |████████████████████▋           | 665 kB 23.6 MB/s eta 0:00:01\r\u001b[K     |█████████████████████           | 675 kB 23.6 MB/s eta 0:00:01\r\u001b[K     |█████████████████████▎          | 686 kB 23.6 MB/s eta 0:00:01\r\u001b[K     |█████████████████████▋          | 696 kB 23.6 MB/s eta 0:00:01\r\u001b[K     |██████████████████████          | 706 kB 23.6 MB/s eta 0:00:01\r\u001b[K     |██████████████████████▎         | 716 kB 23.6 MB/s eta 0:00:01\r\u001b[K     |██████████████████████▋         | 727 kB 23.6 MB/s eta 0:00:01\r\u001b[K     |██████████████████████▉         | 737 kB 23.6 MB/s eta 0:00:01\r\u001b[K     |███████████████████████▏        | 747 kB 23.6 MB/s eta 0:00:01\r\u001b[K     |███████████████████████▌        | 757 kB 23.6 MB/s eta 0:00:01\r\u001b[K     |███████████████████████▉        | 768 kB 23.6 MB/s eta 0:00:01\r\u001b[K     |████████████████████████▏       | 778 kB 23.6 MB/s eta 0:00:01\r\u001b[K     |████████████████████████▌       | 788 kB 23.6 MB/s eta 0:00:01\r\u001b[K     |████████████████████████▉       | 798 kB 23.6 MB/s eta 0:00:01\r\u001b[K     |█████████████████████████       | 808 kB 23.6 MB/s eta 0:00:01\r\u001b[K     |█████████████████████████▍      | 819 kB 23.6 MB/s eta 0:00:01\r\u001b[K     |█████████████████████████▊      | 829 kB 23.6 MB/s eta 0:00:01\r\u001b[K     |██████████████████████████      | 839 kB 23.6 MB/s eta 0:00:01\r\u001b[K     |██████████████████████████▍     | 849 kB 23.6 MB/s eta 0:00:01\r\u001b[K     |██████████████████████████▊     | 860 kB 23.6 MB/s eta 0:00:01\r\u001b[K     |███████████████████████████     | 870 kB 23.6 MB/s eta 0:00:01\r\u001b[K     |███████████████████████████▎    | 880 kB 23.6 MB/s eta 0:00:01\r\u001b[K     |███████████████████████████▋    | 890 kB 23.6 MB/s eta 0:00:01\r\u001b[K     |████████████████████████████    | 901 kB 23.6 MB/s eta 0:00:01\r\u001b[K     |████████████████████████████▎   | 911 kB 23.6 MB/s eta 0:00:01\r\u001b[K     |████████████████████████████▋   | 921 kB 23.6 MB/s eta 0:00:01\r\u001b[K     |█████████████████████████████   | 931 kB 23.6 MB/s eta 0:00:01\r\u001b[K     |█████████████████████████████▎  | 942 kB 23.6 MB/s eta 0:00:01\r\u001b[K     |█████████████████████████████▌  | 952 kB 23.6 MB/s eta 0:00:01\r\u001b[K     |█████████████████████████████▉  | 962 kB 23.6 MB/s eta 0:00:01\r\u001b[K     |██████████████████████████████▏ | 972 kB 23.6 MB/s eta 0:00:01\r\u001b[K     |██████████████████████████████▌ | 983 kB 23.6 MB/s eta 0:00:01\r\u001b[K     |██████████████████████████████▉ | 993 kB 23.6 MB/s eta 0:00:01\r\u001b[K     |███████████████████████████████▏| 1.0 MB 23.6 MB/s eta 0:00:01\r\u001b[K     |███████████████████████████████▌| 1.0 MB 23.6 MB/s eta 0:00:01\r\u001b[K     |███████████████████████████████▊| 1.0 MB 23.6 MB/s eta 0:00:01\r\u001b[K     |████████████████████████████████| 1.0 MB 23.6 MB/s \n",
            "\u001b[?25hRequirement already satisfied: shapely>=1.6 in /usr/local/lib/python3.7/dist-packages (from geopandas) (1.8.0)\n",
            "Requirement already satisfied: pandas>=0.25.0 in /usr/local/lib/python3.7/dist-packages (from geopandas) (1.1.5)\n",
            "Collecting pyproj>=2.2.0\n",
            "  Downloading pyproj-3.2.1-cp37-cp37m-manylinux2010_x86_64.whl (6.3 MB)\n",
            "\u001b[K     |████████████████████████████████| 6.3 MB 31.2 MB/s \n",
            "\u001b[?25hCollecting fiona>=1.8\n",
            "  Downloading Fiona-1.8.20-cp37-cp37m-manylinux1_x86_64.whl (15.4 MB)\n",
            "\u001b[K     |████████████████████████████████| 15.4 MB 36.7 MB/s \n",
            "\u001b[?25hRequirement already satisfied: certifi in /usr/local/lib/python3.7/dist-packages (from fiona>=1.8->geopandas) (2021.10.8)\n",
            "Requirement already satisfied: attrs>=17 in /usr/local/lib/python3.7/dist-packages (from fiona>=1.8->geopandas) (21.2.0)\n",
            "Requirement already satisfied: six>=1.7 in /usr/local/lib/python3.7/dist-packages (from fiona>=1.8->geopandas) (1.15.0)\n",
            "Requirement already satisfied: setuptools in /usr/local/lib/python3.7/dist-packages (from fiona>=1.8->geopandas) (57.4.0)\n",
            "Collecting munch\n",
            "  Downloading munch-2.5.0-py2.py3-none-any.whl (10 kB)\n",
            "Requirement already satisfied: click>=4.0 in /usr/local/lib/python3.7/dist-packages (from fiona>=1.8->geopandas) (7.1.2)\n",
            "Collecting click-plugins>=1.0\n",
            "  Downloading click_plugins-1.1.1-py2.py3-none-any.whl (7.5 kB)\n",
            "Collecting cligj>=0.5\n",
            "  Downloading cligj-0.7.2-py3-none-any.whl (7.1 kB)\n",
            "Requirement already satisfied: pytz>=2017.2 in /usr/local/lib/python3.7/dist-packages (from pandas>=0.25.0->geopandas) (2018.9)\n",
            "Requirement already satisfied: python-dateutil>=2.7.3 in /usr/local/lib/python3.7/dist-packages (from pandas>=0.25.0->geopandas) (2.8.2)\n",
            "Requirement already satisfied: numpy>=1.15.4 in /usr/local/lib/python3.7/dist-packages (from pandas>=0.25.0->geopandas) (1.19.5)\n",
            "Installing collected packages: munch, cligj, click-plugins, pyproj, fiona, geopandas\n",
            "Successfully installed click-plugins-1.1.1 cligj-0.7.2 fiona-1.8.20 geopandas-0.10.2 munch-2.5.0 pyproj-3.2.1\n",
            "Requirement already satisfied: pyproj in /usr/local/lib/python3.7/dist-packages (3.2.1)\n",
            "Requirement already satisfied: certifi in /usr/local/lib/python3.7/dist-packages (from pyproj) (2021.10.8)\n"
          ]
        }
      ]
    },
    {
      "cell_type": "markdown",
      "metadata": {
        "id": "j-d_HscYcdgp"
      },
      "source": [
        "# Import libraries"
      ]
    },
    {
      "cell_type": "code",
      "metadata": {
        "id": "C4ASf9VqSmba"
      },
      "source": [
        "import geopandas as gpd\n",
        "import pandas as pd"
      ],
      "execution_count": 7,
      "outputs": []
    },
    {
      "cell_type": "markdown",
      "metadata": {
        "id": "dpLhVY9QTJ9r"
      },
      "source": [
        "# Create function that merges features and polygon and saves it to a shape file"
      ]
    },
    {
      "cell_type": "code",
      "metadata": {
        "id": "YYda0hEiShGf"
      },
      "source": [
        "def mergeshpfeatures(fnshp,fncsv,outfn):\n",
        "    gdf = gpd.read_file(fnshp)\n",
        "    df=pd.read_csv(fncsv,low_memory=False)\n",
        "    dict={'LC1': df.LC1.values,\n",
        "          'LC1_LABEL': df.LC1_LABEL.values,\n",
        "          'LU1': df.LU1.values,\n",
        "          'LU1_LABEL': df.LU1_LABEL.values,\n",
        "          'LC2': df.LC2.values,\n",
        "          'LC2_LABEL': df.LC2_LABEL.values,\n",
        "          'LU2': df.LU2.values,\n",
        "          'LU2_LABEL': df.LU2_LABEL.values,\n",
        "          }\n",
        "    ldf=pd.DataFrame(dict)\n",
        "    gdf2=gpd.GeoDataFrame(ldf,geometry=gdf.geometry)\n",
        "    gdf2.to_csv(outfn)\n",
        "    return gdf2"
      ],
      "execution_count": 8,
      "outputs": []
    },
    {
      "cell_type": "markdown",
      "metadata": {
        "id": "qiYRV1osTR5q"
      },
      "source": [
        "# Main"
      ]
    },
    {
      "cell_type": "code",
      "metadata": {
        "id": "pZjAstRhcS6d"
      },
      "source": [
        "gdf=mergeshpfeatures(fnshp,fncsv,outfn)"
      ],
      "execution_count": 9,
      "outputs": []
    }
  ]
}