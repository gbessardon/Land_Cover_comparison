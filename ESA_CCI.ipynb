{
  "nbformat": 4,
  "nbformat_minor": 0,
  "metadata": {
    "colab": {
      "name": "ESA-CCI.ipynb",
      "provenance": [],
      "authorship_tag": "ABX9TyO7hOE+mVKWbI1EsFh6sI8j",
      "include_colab_link": true
    },
    "kernelspec": {
      "name": "python3",
      "display_name": "Python 3"
    },
    "language_info": {
      "name": "python"
    }
  },
  "cells": [
    {
      "cell_type": "markdown",
      "metadata": {
        "id": "view-in-github",
        "colab_type": "text"
      },
      "source": [
        "<a href=\"https://colab.research.google.com/github/gbessardon/Land_Cover_comparison/blob/main/ESA_CCI.ipynb\" target=\"_parent\"><img src=\"https://colab.research.google.com/assets/colab-badge.svg\" alt=\"Open In Colab\"/></a>"
      ]
    },
    {
      "cell_type": "markdown",
      "metadata": {
        "id": "b4wQbDlSN6Bi"
      },
      "source": [
        "## Running environment options"
      ]
    },
    {
      "cell_type": "code",
      "metadata": {
        "id": "XJWc6DY9MG-i"
      },
      "source": [
        "colab=1 # 1 running on google collab\n",
        "drive=1 # 1 need to mount google drive"
      ],
      "execution_count": 18,
      "outputs": []
    },
    {
      "cell_type": "markdown",
      "metadata": {
        "id": "TJMxXKuzN-dB"
      },
      "source": [
        "## LUCAS file location"
      ]
    },
    {
      "cell_type": "code",
      "metadata": {
        "id": "EuN9LJJrOIHu"
      },
      "source": [
        "fnshp='/content/drive/MyDrive/LUCAS2018/LUCAS_2018_Copernicus_polygons.shp'\n",
        "fncsv='/content/drive/MyDrive/LUCAS2018/LUCAS_2018_Copernicus_attributes.csv'"
      ],
      "execution_count": 19,
      "outputs": []
    },
    {
      "cell_type": "markdown",
      "metadata": {
        "id": "Y_DxbycMt7f-"
      },
      "source": [
        "## ESA-CCI file location"
      ]
    },
    {
      "cell_type": "code",
      "metadata": {
        "id": "LF-I2qdUuf1T"
      },
      "source": [
        "fnESA='/content/drive/MyDrive/ESA-CCI/C3S-LC-L4-LCCS-Map-300m-P1Y-2018-v2.1.1.nc'\n",
        "ESAfolder=fnESA.replace('/C3S-LC-L4-LCCS-Map-300m-P1Y-2018-v2.1.1.nc','')"
      ],
      "execution_count": 20,
      "outputs": []
    },
    {
      "cell_type": "markdown",
      "metadata": {
        "id": "uqk_WAGMLyBX"
      },
      "source": [
        "# Run on collab and drive \n",
        "set colab=1 and drive=1  in running enviroment options"
      ]
    },
    {
      "cell_type": "markdown",
      "metadata": {
        "id": "-putHlFQLYnQ"
      },
      "source": [
        "## MOUNT google drive"
      ]
    },
    {
      "cell_type": "code",
      "metadata": {
        "colab": {
          "base_uri": "https://localhost:8080/"
        },
        "id": "hl4a3F-GvElB",
        "outputId": "fa8352b7-3ef0-4951-f87a-df113e004a5f"
      },
      "source": [
        "if drive==1:\n",
        "  from google.colab import drive\n",
        "  drive.mount('/content/drive')"
      ],
      "execution_count": 21,
      "outputs": [
        {
          "output_type": "stream",
          "name": "stdout",
          "text": [
            "Drive already mounted at /content/drive; to attempt to forcibly remount, call drive.mount(\"/content/drive\", force_remount=True).\n"
          ]
        }
      ]
    },
    {
      "cell_type": "markdown",
      "metadata": {
        "id": "Zr5-_g9PLkS_"
      },
      "source": [
        "## install geopandas and pyrpoj for collab"
      ]
    },
    {
      "cell_type": "code",
      "metadata": {
        "colab": {
          "base_uri": "https://localhost:8080/"
        },
        "id": "iLVMeu3nLp22",
        "outputId": "18e648a2-cd56-4c3c-9842-d5fd069a0cb9"
      },
      "source": [
        "if colab==1:\n",
        "  !pip install geopandas\n",
        "  !pip install pyproj\n",
        "  !pip install rioxarray"
      ],
      "execution_count": 22,
      "outputs": [
        {
          "output_type": "stream",
          "name": "stdout",
          "text": [
            "Requirement already satisfied: geopandas in /usr/local/lib/python3.7/dist-packages (0.10.2)\n",
            "Requirement already satisfied: pandas>=0.25.0 in /usr/local/lib/python3.7/dist-packages (from geopandas) (1.1.5)\n",
            "Requirement already satisfied: fiona>=1.8 in /usr/local/lib/python3.7/dist-packages (from geopandas) (1.8.20)\n",
            "Requirement already satisfied: shapely>=1.6 in /usr/local/lib/python3.7/dist-packages (from geopandas) (1.8.0)\n",
            "Requirement already satisfied: pyproj>=2.2.0 in /usr/local/lib/python3.7/dist-packages (from geopandas) (3.2.1)\n",
            "Requirement already satisfied: click>=4.0 in /usr/local/lib/python3.7/dist-packages (from fiona>=1.8->geopandas) (7.1.2)\n",
            "Requirement already satisfied: attrs>=17 in /usr/local/lib/python3.7/dist-packages (from fiona>=1.8->geopandas) (21.2.0)\n",
            "Requirement already satisfied: setuptools in /usr/local/lib/python3.7/dist-packages (from fiona>=1.8->geopandas) (57.4.0)\n",
            "Requirement already satisfied: six>=1.7 in /usr/local/lib/python3.7/dist-packages (from fiona>=1.8->geopandas) (1.15.0)\n",
            "Requirement already satisfied: munch in /usr/local/lib/python3.7/dist-packages (from fiona>=1.8->geopandas) (2.5.0)\n",
            "Requirement already satisfied: click-plugins>=1.0 in /usr/local/lib/python3.7/dist-packages (from fiona>=1.8->geopandas) (1.1.1)\n",
            "Requirement already satisfied: certifi in /usr/local/lib/python3.7/dist-packages (from fiona>=1.8->geopandas) (2021.10.8)\n",
            "Requirement already satisfied: cligj>=0.5 in /usr/local/lib/python3.7/dist-packages (from fiona>=1.8->geopandas) (0.7.2)\n",
            "Requirement already satisfied: numpy>=1.15.4 in /usr/local/lib/python3.7/dist-packages (from pandas>=0.25.0->geopandas) (1.19.5)\n",
            "Requirement already satisfied: python-dateutil>=2.7.3 in /usr/local/lib/python3.7/dist-packages (from pandas>=0.25.0->geopandas) (2.8.2)\n",
            "Requirement already satisfied: pytz>=2017.2 in /usr/local/lib/python3.7/dist-packages (from pandas>=0.25.0->geopandas) (2018.9)\n",
            "Requirement already satisfied: pyproj in /usr/local/lib/python3.7/dist-packages (3.2.1)\n",
            "Requirement already satisfied: certifi in /usr/local/lib/python3.7/dist-packages (from pyproj) (2021.10.8)\n",
            "Requirement already satisfied: rioxarray in /usr/local/lib/python3.7/dist-packages (0.9.0)\n",
            "Requirement already satisfied: rasterio in /usr/local/lib/python3.7/dist-packages (from rioxarray) (1.2.10)\n",
            "Requirement already satisfied: packaging in /usr/local/lib/python3.7/dist-packages (from rioxarray) (21.3)\n",
            "Requirement already satisfied: pyproj>=2.2 in /usr/local/lib/python3.7/dist-packages (from rioxarray) (3.2.1)\n",
            "Requirement already satisfied: xarray>=0.17 in /usr/local/lib/python3.7/dist-packages (from rioxarray) (0.18.2)\n",
            "Requirement already satisfied: certifi in /usr/local/lib/python3.7/dist-packages (from pyproj>=2.2->rioxarray) (2021.10.8)\n",
            "Requirement already satisfied: numpy>=1.17 in /usr/local/lib/python3.7/dist-packages (from xarray>=0.17->rioxarray) (1.19.5)\n",
            "Requirement already satisfied: pandas>=1.0 in /usr/local/lib/python3.7/dist-packages (from xarray>=0.17->rioxarray) (1.1.5)\n",
            "Requirement already satisfied: setuptools>=40.4 in /usr/local/lib/python3.7/dist-packages (from xarray>=0.17->rioxarray) (57.4.0)\n",
            "Requirement already satisfied: pytz>=2017.2 in /usr/local/lib/python3.7/dist-packages (from pandas>=1.0->xarray>=0.17->rioxarray) (2018.9)\n",
            "Requirement already satisfied: python-dateutil>=2.7.3 in /usr/local/lib/python3.7/dist-packages (from pandas>=1.0->xarray>=0.17->rioxarray) (2.8.2)\n",
            "Requirement already satisfied: six>=1.5 in /usr/local/lib/python3.7/dist-packages (from python-dateutil>=2.7.3->pandas>=1.0->xarray>=0.17->rioxarray) (1.15.0)\n",
            "Requirement already satisfied: pyparsing!=3.0.5,>=2.0.2 in /usr/local/lib/python3.7/dist-packages (from packaging->rioxarray) (3.0.6)\n",
            "Requirement already satisfied: click-plugins in /usr/local/lib/python3.7/dist-packages (from rasterio->rioxarray) (1.1.1)\n",
            "Requirement already satisfied: snuggs>=1.4.1 in /usr/local/lib/python3.7/dist-packages (from rasterio->rioxarray) (1.4.7)\n",
            "Requirement already satisfied: attrs in /usr/local/lib/python3.7/dist-packages (from rasterio->rioxarray) (21.2.0)\n",
            "Requirement already satisfied: affine in /usr/local/lib/python3.7/dist-packages (from rasterio->rioxarray) (2.3.0)\n",
            "Requirement already satisfied: click>=4.0 in /usr/local/lib/python3.7/dist-packages (from rasterio->rioxarray) (7.1.2)\n",
            "Requirement already satisfied: cligj>=0.5 in /usr/local/lib/python3.7/dist-packages (from rasterio->rioxarray) (0.7.2)\n"
          ]
        }
      ]
    },
    {
      "cell_type": "markdown",
      "metadata": {
        "id": "xrnNAa8lxvFS"
      },
      "source": [
        "# import libraires"
      ]
    },
    {
      "cell_type": "code",
      "metadata": {
        "id": "XPASJ5A8xufi"
      },
      "source": [
        "import os\n",
        "from osgeo import gdal\n",
        "from shapely import geometry\n",
        "import geopandas as gpd\n",
        "import numpy as np\n",
        "import shutil\n",
        "import xarray as xr\n",
        "import rioxarray as rio"
      ],
      "execution_count": 23,
      "outputs": []
    },
    {
      "cell_type": "markdown",
      "metadata": {
        "id": "TytO9B2abxCC"
      },
      "source": [
        "# Create functions"
      ]
    },
    {
      "cell_type": "markdown",
      "metadata": {
        "id": "Q4d1t8XbWS_0"
      },
      "source": [
        "## create directory to store the segment before zipping"
      ]
    },
    {
      "cell_type": "code",
      "metadata": {
        "id": "Z6Hekp0KmD9a"
      },
      "source": [
        "def create_sgement_dir(path=os.getcwd(),ending='LUCAS_Segment'):\n",
        "    outputdir=os.path.join(path,ending)\n",
        "    if not os.path.isdir(outputdir):\n",
        "      os.mkdir(outputdir)\n",
        "    return outputdir"
      ],
      "execution_count": 24,
      "outputs": []
    },
    {
      "cell_type": "markdown",
      "metadata": {
        "id": "LvRfVCm0oLvw"
      },
      "source": [
        "## CUT ESA-CCI segments"
      ]
    },
    {
      "cell_type": "code",
      "metadata": {
        "id": "4hoxl4aZnK9n"
      },
      "source": [
        "def cutESACCI(ncfile,bounds,outfn):\n",
        "  #Crop to a sligthly larger area\n",
        "  LONMIN=bounds[0]-0.1\n",
        "  LATMIN=bounds[1]-0.1\n",
        "  LONMAX=bounds[2]+0.1\n",
        "  LATMAX=bounds[3]+0.1\n",
        "  LAT=ncfile['lat'][(ncfile['lat']<LATMAX)&(ncfile['lat']>LATMIN)]\n",
        "  LON=ncfile['lon'][(ncfile['lon']<LONMAX)&(ncfile['lon']>LONMIN)]\n",
        "  var=ncfile['lccs_class'][0,(ncfile['lat']<LATMAX)&(ncfile['lat']>LATMIN),\n",
        "                          (ncfile['lon']<LONMAX)&(ncfile['lon']>LONMIN)]\n",
        "  var.rio.write_crs(\"epsg:4326\", inplace=True)\n",
        "  var.rio.to_raster('temp.tif')\n",
        "  # Recrop to the actual area and increase the resolution  \n",
        "  Pixelsize=[l for l in gdal.Info('temp.tif',format='text').split('\\n') if l.startswith('Pixel')][0]\n",
        "  xres=float(Pixelsize.replace('(','').replace(')','').split('=')[1].split(',')[0])\n",
        "  yres=float(Pixelsize.replace('(','').replace(')','').split('=')[1].split(',')[1])\n",
        "  opt=gdal.WarpOptions(dstSRS=\"EPSG:4326\",outputBounds=bounds,xRes=xres/30,yRes=yres/30)\n",
        "  gdal.Warp(outfn,'temp.tif',options=opt)\n",
        "  return"
      ],
      "execution_count": 25,
      "outputs": []
    },
    {
      "cell_type": "markdown",
      "metadata": {
        "id": "4k4q0_suvw-m"
      },
      "source": [
        "# Main"
      ]
    },
    {
      "cell_type": "markdown",
      "metadata": {
        "id": "oL0YDeY3WtB1"
      },
      "source": [
        "## Open LUCAS shapefile in a geodatabase"
      ]
    },
    {
      "cell_type": "code",
      "metadata": {
        "id": "2jD4tyUJewNV"
      },
      "source": [
        "LUCASgdf = gpd.read_file(fnshp)"
      ],
      "execution_count": 26,
      "outputs": []
    },
    {
      "cell_type": "markdown",
      "metadata": {
        "id": "2WdhfZO1W08E"
      },
      "source": [
        "## Create directory to store the segment before zipping"
      ]
    },
    {
      "cell_type": "code",
      "metadata": {
        "id": "JJRlHStS3vHS"
      },
      "source": [
        "outputdir=create_sgement_dir(path=os.getcwd(),ending='LUCAS_Segment_ESA')"
      ],
      "execution_count": 27,
      "outputs": []
    },
    {
      "cell_type": "markdown",
      "metadata": {
        "id": "m20N_ddkms69"
      },
      "source": [
        "## Open ESACCI"
      ]
    },
    {
      "cell_type": "code",
      "metadata": {
        "id": "CiQc2MGMmtdD"
      },
      "source": [
        "ncfile = xr.open_dataset(fnESA)"
      ],
      "execution_count": 28,
      "outputs": []
    },
    {
      "cell_type": "markdown",
      "metadata": {
        "id": "MIBGPGoyv8Xz"
      },
      "source": [
        "## Create ESACCI segments corresponding to the LUCAS segments"
      ]
    },
    {
      "cell_type": "code",
      "metadata": {
        "id": "alHSfUYjwGLW"
      },
      "source": [
        "for i,d in LUCASgdf.iterrows():\n",
        "      lucasp=LUCASgdf['geometry'].loc[i]\n",
        "      bounds=lucasp.bounds\n",
        "      lucasid=LUCASgdf['POINT_ID'].loc[i]\n",
        "      outfile=os.path.join(outputdir,str(lucasid)+'.tif')\n",
        "      cutESACCI(ncfile,bounds,outfile)"
      ],
      "execution_count": null,
      "outputs": []
    },
    {
      "cell_type": "markdown",
      "metadata": {
        "id": "BQCZCgG0gYAH"
      },
      "source": [
        "## Save in a zip archive in google drive (prevents I/O errors)"
      ]
    },
    {
      "cell_type": "code",
      "metadata": {
        "id": "fwGZZDXjUtDs"
      },
      "source": [
        "shutil.make_archive(os.path.join(ESAfolder,'LUCAS_Segment'), 'zip', outputdir)"
      ],
      "execution_count": null,
      "outputs": []
    }
  ]
}